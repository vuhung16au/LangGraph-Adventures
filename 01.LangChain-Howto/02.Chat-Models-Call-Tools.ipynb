{
  "cells": [
    {
      "cell_type": "markdown",
      "metadata": {},
      "source": [
        "## LangChain — Chat Models: Tool Calling with Ollama (DeepSeek R1 8B)\n",
        "\n",
        "This notebook demonstrates how to use chat models to call tools using LangChain's tool-calling interface with `ChatOllama` and the `deepseek-r1:8b` model running locally via Ollama.\n",
        "\n",
        "References:\n",
        "- LangChain — Tool calling: https://python.langchain.com/docs/how_to/tool_calling/\n",
        "- Notebook reference: https://raw.githubusercontent.com/langchain-ai/langchain/refs/heads/master/docs/docs/how_to/tool_calling.ipynb\n",
        "\n",
        "Assumptions:\n",
        "- Ollama is running locally at `http://localhost:11434`\n",
        "- The model `deepseek-r1:8b` is installed (run `ollama pull deepseek-r1:8b` if needed)\n",
        "\n",
        "What you'll learn:\n",
        "- Define tools with `@tool`\n",
        "- Bind tools to a chat model (`bind_tools`)\n",
        "- Inspect `tool_calls` emitted by the model\n",
        "- Execute tools and feed results back to the model to complete the answer\n",
        "\n"
      ]
    },
    {
      "cell_type": "markdown",
      "metadata": {},
      "source": [
        "### 1) Install and verify environment\n",
        "\n",
        "Use the cell below to install the required packages. You can skip installation if you already have them.\n"
      ]
    },
    {
      "cell_type": "code",
      "execution_count": 24,
      "metadata": {},
      "outputs": [
        {
          "name": "stdout",
          "output_type": "stream",
          "text": [
            "Python 3.12.11\n",
            "\n",
            "\u001b[1m[\u001b[0m\u001b[34;49mnotice\u001b[0m\u001b[1;39;49m]\u001b[0m\u001b[39;49m A new release of pip is available: \u001b[0m\u001b[31;49m25.1.1\u001b[0m\u001b[39;49m -> \u001b[0m\u001b[32;49m25.2\u001b[0m\n",
            "\u001b[1m[\u001b[0m\u001b[34;49mnotice\u001b[0m\u001b[1;39;49m]\u001b[0m\u001b[39;49m To update, run: \u001b[0m\u001b[32;49mpip install --upgrade pip\u001b[0m\n",
            "Note: you may need to restart the kernel to use updated packages.\n"
          ]
        }
      ],
      "source": [
        "!python -V\n",
        "%pip install -qU langchain langchain-core langchain-ollama pydantic rich\n",
        "# If not present, pull the model used for a basic check:\n",
        "# ollama pull deepseek-r1:8b\n",
        "# Also pull a tool-capable model used in this notebook (any of these is fine):\n",
        "# ollama pull qwen2.5:7b-instruct\n",
        "# ollama pull llama3.1:8b-instruct-q8_0\n"
      ]
    },
    {
      "cell_type": "markdown",
      "metadata": {},
      "source": [
        "### 2) Connect to Ollama and sanity check\n",
        "\n",
        "We'll connect to the local Ollama server via `ChatOllama` and ensure the model responds.\n"
      ]
    },
    {
      "cell_type": "code",
      "execution_count": 25,
      "metadata": {},
      "outputs": [
        {
          "name": "stdout",
          "output_type": "stream",
          "text": [
            "The word is: ready.\n"
          ]
        }
      ],
      "source": [
        "from langchain_ollama import ChatOllama\n",
        "\n",
        "# Basic connectivity check to Ollama\n",
        "# model = \"deepseek-r1:8b\"\n",
        "model = \"llama3.1:8b-instruct-q8_0\"\n",
        "llm = ChatOllama(model=model, temperature=0)\n",
        "resp = llm.invoke(\"Return the word 'ready'.\")\n",
        "print(resp.content)\n"
      ]
    },
    {
      "cell_type": "markdown",
      "metadata": {},
      "source": [
        "### 3) Define tools with `@tool`\n",
        "\n",
        "We'll create simple tools and annotate them so the model understands what they do and the arguments they accept.\n"
      ]
    },
    {
      "cell_type": "code",
      "execution_count": 26,
      "metadata": {},
      "outputs": [],
      "source": [
        "from typing import Literal\n",
        "from langchain_core.tools import tool\n",
        "\n",
        "@tool\n",
        "def add(a: int, b: int) -> int:\n",
        "    \"\"\"Add two integers and return the sum.\n",
        "\n",
        "    Args:\n",
        "        a: First integer\n",
        "        b: Second integer\n",
        "    \"\"\"\n",
        "    return a + b\n",
        "\n",
        "@tool\n",
        "def multiply(a: int, b: int) -> int:\n",
        "    \"\"\"Multiply two integers and return the product.\n",
        "\n",
        "    Args:\n",
        "        a: First integer\n",
        "        b: Second integer\n",
        "    \"\"\"\n",
        "    return a * b\n",
        "\n",
        "@tool\n",
        "def convert_temperature(value: float, unit: Literal[\"C_to_F\", \"F_to_C\"]) -> float:\n",
        "    \"\"\"Convert temperatures between Celsius and Fahrenheit.\n",
        "\n",
        "    - Use unit=\"C_to_F\" to convert Celsius to Fahrenheit\n",
        "    - Use unit=\"F_to_C\" to convert Fahrenheit to Celsius\n",
        "    \"\"\"\n",
        "    if unit == \"C_to_F\":\n",
        "        return (value * 9 / 5) + 32\n",
        "    else:\n",
        "        return (value - 32) * 5 / 9\n",
        "\n",
        "TOOLS = [add, multiply, convert_temperature]\n"
      ]
    },
    {
      "cell_type": "markdown",
      "metadata": {},
      "source": []
    },
    {
      "cell_type": "markdown",
      "metadata": {},
      "source": [
        "### 4) LangChain Tool\n",
        "\n",
        "In addition to the `@tool` decorator on functions, you can build a LangChain Tool object. `StructuredTool` wraps a Python function with an auto-generated JSON schema so models can call it.\n"
      ]
    },
    {
      "cell_type": "code",
      "execution_count": 27,
      "metadata": {},
      "outputs": [],
      "source": [
        "from langchain_core.tools import StructuredTool\n",
        "\n",
        "\n",
        "def power(base: int, exponent: int) -> int:\n",
        "    return base ** exponent\n",
        "\n",
        "power_tool = StructuredTool.from_function(\n",
        "    func=power,\n",
        "    name=\"power\",\n",
        "    description=\"Raise a base to an exponent and return the integer result.\",\n",
        ")\n",
        "\n",
        "TOOLS_WITH_STRUCTURED = TOOLS + [power_tool]\n",
        "\n"
      ]
    },
    {
      "cell_type": "markdown",
      "metadata": {},
      "source": [
        "### 5) Pydantic class\n",
        "\n",
        "You can define tool schemas using `pydantic` models. The model serves as the tool schema and provides validation and rich descriptions for arguments.\n"
      ]
    },
    {
      "cell_type": "code",
      "execution_count": 28,
      "metadata": {},
      "outputs": [],
      "source": [
        "from pydantic import BaseModel, Field\n",
        "import json\n",
        "from urllib.request import urlopen, Request\n",
        "\n",
        "# Helper: pick a tool-capable model that's already installed in Ollama\n",
        "PREFERRED_TOOL_MODELS = [\n",
        "    \"llama3.1:8b-instruct-q8_0\",\n",
        "    \"qwen2.5:7b-instruct\",\n",
        "    \"deepseek-r1:8b\",\n",
        "]\n",
        "\n",
        "def list_ollama_models() -> list[str]:\n",
        "    try:\n",
        "        req = Request(\"http://localhost:11434/api/tags\")\n",
        "        with urlopen(req, timeout=2) as resp:\n",
        "            data = json.loads(resp.read().decode(\"utf-8\"))\n",
        "            return [m.get(\"name\", \"\") for m in data.get(\"models\", [])]\n",
        "    except Exception:\n",
        "        return []\n",
        "\n",
        "def get_tool_capable_llm() -> ChatOllama:\n",
        "    available_models = list_ollama_models()\n",
        "    selected = next((m for m in PREFERRED_TOOL_MODELS if m in available_models), None)\n",
        "    if selected is None:\n",
        "        raise RuntimeError(\n",
        "            \"No tool-capable model found in Ollama. Please run: `ollama pull qwen2.5:7b-instruct`\"\n",
        "        )\n",
        "    return ChatOllama(model=selected, temperature=0)\n",
        "\n",
        "# Use the selected tool-capable model for tool calling demos\n",
        "llm_tools = get_tool_capable_llm()\n",
        "\n",
        "\n",
        "class TemperatureConversion(BaseModel):\n",
        "    \"\"\"Convert temperatures between Celsius and Fahrenheit.\"\"\"\n",
        "\n",
        "    value: float = Field(..., description=\"Temperature value to convert\")\n",
        "    unit: Literal[\"C_to_F\", \"F_to_C\"] = Field(\n",
        "        ..., description=\"Conversion direction: 'C_to_F' or 'F_to_C'\"\n",
        "    )\n",
        "\n",
        "    def execute(self) -> float:\n",
        "        if self.unit == \"C_to_F\":\n",
        "            return (self.value * 9 / 5) + 32\n",
        "        return (self.value - 32) * 5 / 9\n",
        "\n",
        "\n",
        "# Bind a model with a Pydantic tool schema\n",
        "llm_with_pydantic = llm_tools.bind_tools([TemperatureConversion])\n",
        "\n"
      ]
    },
    {
      "cell_type": "markdown",
      "metadata": {},
      "source": [
        "### 6) TypedDict class\n",
        "\n",
        "Alternatively, you can define tool schemas using `TypedDict` for lightweight, typed dictionaries.\n"
      ]
    },
    {
      "cell_type": "code",
      "execution_count": 29,
      "metadata": {},
      "outputs": [],
      "source": [
        "from typing import TypedDict\n",
        "from pydantic import create_model\n",
        "\n",
        "\n",
        "class AddArgs(TypedDict):\n",
        "    a: int\n",
        "    b: int\n",
        "\n",
        "# Convert TypedDict to a Pydantic model for args_schema compatibility\n",
        "AddArgsModel = create_model(\"AddArgsModel\", a=(int, ...), b=(int, ...))\n",
        "\n",
        "\n",
        "@tool(args_schema=AddArgsModel)\n",
        "def add_typed(a: int, b: int) -> int:\n",
        "    \"\"\"Add two integers and return the sum.\n",
        "\n",
        "    Args:\n",
        "        a: First integer\n",
        "        b: Second integer\n",
        "    \"\"\"\n",
        "    return a + b\n",
        "\n",
        "\n",
        "llm_with_typeddict = llm_tools.bind_tools([add_typed])\n",
        "\n"
      ]
    },
    {
      "cell_type": "markdown",
      "metadata": {},
      "source": [
        "### 7) Tool calls\n",
        "\n",
        "Let's see the model propose tool calls and how to view them. We'll ask a multi-part math question that should trigger multiple tools.\n"
      ]
    },
    {
      "cell_type": "code",
      "execution_count": 30,
      "metadata": {},
      "outputs": [
        {
          "name": "stdout",
          "output_type": "stream",
          "text": [
            "Model content:\n",
            " \n",
            "\n",
            "Tool calls:\n",
            "0 multiply {'a': 3, 'b': 12}\n",
            "1 add {'a': 11, 'b': 49}\n",
            "2 power {'base': 2, 'exponent': 10}\n"
          ]
        }
      ],
      "source": [
        "# Bind the function tools and the structured tool together (use tool-capable model)\n",
        "llm_with_tools = llm_tools.bind_tools(TOOLS_WITH_STRUCTURED)\n",
        "\n",
        "query = \"What is 3 * 12? Also, what is 11 + 49? And compute 2^10.\"\n",
        "msg = llm_with_tools.invoke(query)\n",
        "\n",
        "print(\"Model content:\\n\", msg.content)\n",
        "print(\"\\nTool calls:\")\n",
        "for i, tc in enumerate(getattr(msg, \"tool_calls\", []) or []):\n",
        "    print(i, tc[\"name\"], tc[\"args\"])\n"
      ]
    },
    {
      "cell_type": "markdown",
      "metadata": {},
      "source": [
        "### 8) Parsing\n",
        "\n",
        "We can parse tool calls into structured Python objects for easier execution and testing. Below demonstrates parsers for function-based tools, Pydantic tool schemas, and a JSON parser for responses.\n"
      ]
    },
    {
      "cell_type": "code",
      "execution_count": 32,
      "metadata": {},
      "outputs": [
        {
          "name": "stdout",
          "output_type": "stream",
          "text": [
            "Parsed pydantic tool calls:\n",
            "TemperatureConversion value=20.0 unit='C_to_F'\n",
            "\n",
            "Parsed JSON text: {'tools': [{'type': 'add', 'args': {'a': 11, 'b': 49}}]}\n",
            "\n",
            "Parsed tool calls from AIMessage: [{'args': {'a': 3, 'b': 12}, 'type': 'multiply'}, {'args': {'a': 11, 'b': 49}, 'type': 'add'}, {'args': {'base': 2, 'exponent': 10}, 'type': 'power'}]\n"
          ]
        }
      ],
      "source": [
        "from langchain_core.output_parsers import (\n",
        "    JsonOutputToolsParser,\n",
        "    PydanticToolsParser,\n",
        "    JsonOutputParser,\n",
        ")\n",
        "\n",
        "# 8.1) Parse Pydantic-modeled tool calls into Pydantic objects\n",
        "pydantic_parser = PydanticToolsParser(tools=[TemperatureConversion])\n",
        "msg_pyd = llm_with_pydantic.invoke(\"Convert 20 C to Fahrenheit.\")\n",
        "parsed_pyd = pydantic_parser.invoke(msg_pyd)\n",
        "print(\"Parsed pydantic tool calls:\")\n",
        "for obj in parsed_pyd:\n",
        "    print(type(obj).__name__, obj)\n",
        "\n",
        "# 8.2) Parse plain JSON text with JsonOutputParser\n",
        "json_text = '{\"tools\": [{\"type\": \"add\", \"args\": {\"a\": 11, \"b\": 49}}]}'\n",
        "plain_json_parser = JsonOutputParser()\n",
        "print(\"\\nParsed JSON text:\", plain_json_parser.invoke(json_text))\n",
        "\n",
        "# 8.3) Parse tool calls from a chat message using JsonOutputToolsParser (uses `msg` from above)\n",
        "tools_parser = JsonOutputToolsParser()\n",
        "print(\"\\nParsed tool calls from AIMessage:\", tools_parser.invoke(msg))\n",
        "\n"
      ]
    }
  ],
  "metadata": {
    "kernelspec": {
      "display_name": ".venv",
      "language": "python",
      "name": "python3"
    },
    "language_info": {
      "codemirror_mode": {
        "name": "ipython",
        "version": 3
      },
      "file_extension": ".py",
      "mimetype": "text/x-python",
      "name": "python",
      "nbconvert_exporter": "python",
      "pygments_lexer": "ipython3",
      "version": "3.12.11"
    }
  },
  "nbformat": 4,
  "nbformat_minor": 2
}
