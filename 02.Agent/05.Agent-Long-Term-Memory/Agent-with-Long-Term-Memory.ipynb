{
  "cells": [
    {
      "cell_type": "markdown",
      "metadata": {
        "id": "XnYh_ow8jfH8"
      },
      "source": [
        "# Memory Agent\n",
        "\n",
        "## Review\n",
        "\n",
        "We created a chatbot that saves semantic memories to a single [user profile](https://langchain-ai.github.io/langgraph/concepts/memory/#profile) or [collection](https://langchain-ai.github.io/langgraph/concepts/memory/#collection).\n",
        "\n",
        "We introduced [Trustcall](https://github.com/hinthornw/trustcall) as a way to update either schema.\n",
        "\n",
        "## Goals\n",
        "\n",
        "Now, we're going to pull together the pieces we've learned to build an [agent](https://langchain-ai.github.io/langgraph/concepts/agentic_concepts/) with long-term memory.\n",
        "\n",
        "Our agent, `task_mAIstro`, will help us manage a ToDo list!\n",
        "\n",
        "The chatbots we built previously *always* reflected on the conversation and saved memories.\n",
        "\n",
        "`task_mAIstro` will decide *when* to save memories (items to our ToDo list).\n",
        "\n",
        "The chatbots we built previously always saved one type of memory, a profile or a collection.\n",
        "\n",
        "`task_mAIstro` can decide to save to either a user profile or a collection of ToDo items.\n",
        "\n",
        "In addition semantic memory, `task_mAIstro` also will manage procedural memory.\n",
        "\n",
        "This allows the user to update their preferences for creating ToDo items."
      ]
    },
    {
      "cell_type": "code",
      "execution_count": 32,
      "metadata": {
        "id": "MFO71cCKjfH9"
      },
      "outputs": [],
      "source": [
        "# %%capture --no-stderr\n",
        "# %pip install -U langchain_google_genai langgraph trustcall langchain_core"
      ]
    },
    {
      "cell_type": "code",
      "execution_count": 33,
      "metadata": {
        "id": "D-uJg6JYjfH-"
      },
      "outputs": [],
      "source": [
        "import os\n",
        "from dotenv import dotenv_values\n",
        "\n",
        "# Load environment from .env.local\n",
        "ENV = dotenv_values(os.path.expanduser('~/Documents/LangGraph-Credentials/.env.local'))\n",
        "\n",
        "# Set Gemini API key\n",
        "if ENV.get('GOOGLE_API_KEY'):\n",
        "    os.environ['GOOGLE_API_KEY'] = ENV['GOOGLE_API_KEY']\n",
        "\n",
        "# Default Gemini model\n",
        "os.environ.setdefault('GEMINI_MODEL', 'gemini-2.5-flash')\n",
        "\n",
        "# Set up LangSmith\n",
        "if ENV.get('LANGSMITH_API_KEY'):\n",
        "    os.environ['LANGSMITH_API_KEY'] = ENV['LANGSMITH_API_KEY']\n",
        "os.environ[\"LANGSMITH_TRACING\"] = \"true\"\n",
        "os.environ[\"LANGSMITH_PROJECT\"] = \"langchain-academy\""
      ]
    },
    {
      "cell_type": "code",
      "execution_count": 34,
      "metadata": {
        "id": "5r6ksz-YjfH-"
      },
      "outputs": [],
      "source": [
        "# Gemini API key is already set from .env.local"
      ]
    },
    {
      "cell_type": "markdown",
      "metadata": {
        "id": "rN4jHES2jfH_"
      },
      "source": [
        "## Visibility into Trustcall updates\n",
        "\n",
        "Trustcall creates and updates JSON schemas.\n",
        "\n",
        "What if we want visibility into the *specific changes* made by Trustcall?\n",
        "\n",
        "For example, we saw before that Trustcall has some of its own tools to:\n",
        "\n",
        "* Self-correct from validation failures -- [see trace example here](https://smith.langchain.com/public/5cd23009-3e05-4b00-99f0-c66ee3edd06e/r/9684db76-2003-443b-9aa2-9a9dbc5498b7)\n",
        "* Update existing documents -- [see trace example here](https://smith.langchain.com/public/f45bdaf0-6963-4c19-8ec9-f4b7fe0f68ad/r/760f90e1-a5dc-48f1-8c34-79d6a3414ac3)\n",
        "\n",
        "Visibility into these tools can be useful for the agent we're going to build.\n",
        "\n",
        "Below, we'll show how to do this!"
      ]
    },
    {
      "cell_type": "code",
      "execution_count": 35,
      "metadata": {
        "id": "s3E_YN1IjfH_"
      },
      "outputs": [],
      "source": [
        "from pydantic import BaseModel, Field\n",
        "\n",
        "class Memory(BaseModel):\n",
        "    content: str = Field(description=\"The main content of the memory. For example: User expressed interest in learning about French.\")\n",
        "\n",
        "class MemoryCollection(BaseModel):\n",
        "    memories: list[Memory] = Field(description=\"A list of memories about the user.\")"
      ]
    },
    {
      "cell_type": "markdown",
      "metadata": {
        "id": "_16XKlqQjfH_"
      },
      "source": [
        "We can add a [listener](https://python.langchain.com/docs/how_to/lcel_cheatsheet/#add-lifecycle-listeners) to the Trustcall extractor.\n",
        "\n",
        "This will pass runs from the extractor's execution to a class, `Spy`, that we will define.\n",
        "\n",
        "Our `Spy` class will extract information about what tool calls were made by Trustcall."
      ]
    },
    {
      "cell_type": "code",
      "execution_count": 36,
      "metadata": {},
      "outputs": [
        {
          "name": "stdout",
          "output_type": "stream",
          "text": [
            "Requirement already satisfied: trustcall in /Users/vuhung/Desktop/LangGraph-Adventures/02.Agent/.venv/lib/python3.13/site-packages (0.0.39)\n",
            "Requirement already satisfied: langgraph>=0.2.25 in /Users/vuhung/Desktop/LangGraph-Adventures/02.Agent/.venv/lib/python3.13/site-packages (from trustcall) (0.6.6)\n",
            "Requirement already satisfied: dydantic<1.0.0,>=0.0.8 in /Users/vuhung/Desktop/LangGraph-Adventures/02.Agent/.venv/lib/python3.13/site-packages (from trustcall) (0.0.8)\n",
            "Requirement already satisfied: jsonpatch<2.0,>=1.33 in /Users/vuhung/Desktop/LangGraph-Adventures/02.Agent/.venv/lib/python3.13/site-packages (from trustcall) (1.33)\n",
            "Requirement already satisfied: pydantic<3,>=2 in /Users/vuhung/Desktop/LangGraph-Adventures/02.Agent/.venv/lib/python3.13/site-packages (from dydantic<1.0.0,>=0.0.8->trustcall) (2.11.7)\n",
            "Requirement already satisfied: jsonpointer>=1.9 in /Users/vuhung/Desktop/LangGraph-Adventures/02.Agent/.venv/lib/python3.13/site-packages (from jsonpatch<2.0,>=1.33->trustcall) (3.0.0)\n",
            "Requirement already satisfied: annotated-types>=0.6.0 in /Users/vuhung/Desktop/LangGraph-Adventures/02.Agent/.venv/lib/python3.13/site-packages (from pydantic<3,>=2->dydantic<1.0.0,>=0.0.8->trustcall) (0.7.0)\n",
            "Requirement already satisfied: pydantic-core==2.33.2 in /Users/vuhung/Desktop/LangGraph-Adventures/02.Agent/.venv/lib/python3.13/site-packages (from pydantic<3,>=2->dydantic<1.0.0,>=0.0.8->trustcall) (2.33.2)\n",
            "Requirement already satisfied: typing-extensions>=4.12.2 in /Users/vuhung/Desktop/LangGraph-Adventures/02.Agent/.venv/lib/python3.13/site-packages (from pydantic<3,>=2->dydantic<1.0.0,>=0.0.8->trustcall) (4.15.0)\n",
            "Requirement already satisfied: typing-inspection>=0.4.0 in /Users/vuhung/Desktop/LangGraph-Adventures/02.Agent/.venv/lib/python3.13/site-packages (from pydantic<3,>=2->dydantic<1.0.0,>=0.0.8->trustcall) (0.4.1)\n",
            "Requirement already satisfied: langchain-core>=0.1 in /Users/vuhung/Desktop/LangGraph-Adventures/02.Agent/.venv/lib/python3.13/site-packages (from langgraph>=0.2.25->trustcall) (0.3.75)\n",
            "Requirement already satisfied: langgraph-checkpoint<3.0.0,>=2.1.0 in /Users/vuhung/Desktop/LangGraph-Adventures/02.Agent/.venv/lib/python3.13/site-packages (from langgraph>=0.2.25->trustcall) (2.1.1)\n",
            "Requirement already satisfied: langgraph-prebuilt<0.7.0,>=0.6.0 in /Users/vuhung/Desktop/LangGraph-Adventures/02.Agent/.venv/lib/python3.13/site-packages (from langgraph>=0.2.25->trustcall) (0.6.4)\n",
            "Requirement already satisfied: langgraph-sdk<0.3.0,>=0.2.2 in /Users/vuhung/Desktop/LangGraph-Adventures/02.Agent/.venv/lib/python3.13/site-packages (from langgraph>=0.2.25->trustcall) (0.2.3)\n",
            "Requirement already satisfied: xxhash>=3.5.0 in /Users/vuhung/Desktop/LangGraph-Adventures/02.Agent/.venv/lib/python3.13/site-packages (from langgraph>=0.2.25->trustcall) (3.5.0)\n",
            "Requirement already satisfied: ormsgpack>=1.10.0 in /Users/vuhung/Desktop/LangGraph-Adventures/02.Agent/.venv/lib/python3.13/site-packages (from langgraph-checkpoint<3.0.0,>=2.1.0->langgraph>=0.2.25->trustcall) (1.10.0)\n",
            "Requirement already satisfied: httpx>=0.25.2 in /Users/vuhung/Desktop/LangGraph-Adventures/02.Agent/.venv/lib/python3.13/site-packages (from langgraph-sdk<0.3.0,>=0.2.2->langgraph>=0.2.25->trustcall) (0.28.1)\n",
            "Requirement already satisfied: orjson>=3.10.1 in /Users/vuhung/Desktop/LangGraph-Adventures/02.Agent/.venv/lib/python3.13/site-packages (from langgraph-sdk<0.3.0,>=0.2.2->langgraph>=0.2.25->trustcall) (3.11.2)\n",
            "Requirement already satisfied: anyio in /Users/vuhung/Desktop/LangGraph-Adventures/02.Agent/.venv/lib/python3.13/site-packages (from httpx>=0.25.2->langgraph-sdk<0.3.0,>=0.2.2->langgraph>=0.2.25->trustcall) (4.10.0)\n",
            "Requirement already satisfied: certifi in /Users/vuhung/Desktop/LangGraph-Adventures/02.Agent/.venv/lib/python3.13/site-packages (from httpx>=0.25.2->langgraph-sdk<0.3.0,>=0.2.2->langgraph>=0.2.25->trustcall) (2025.8.3)\n",
            "Requirement already satisfied: httpcore==1.* in /Users/vuhung/Desktop/LangGraph-Adventures/02.Agent/.venv/lib/python3.13/site-packages (from httpx>=0.25.2->langgraph-sdk<0.3.0,>=0.2.2->langgraph>=0.2.25->trustcall) (1.0.9)\n",
            "Requirement already satisfied: idna in /Users/vuhung/Desktop/LangGraph-Adventures/02.Agent/.venv/lib/python3.13/site-packages (from httpx>=0.25.2->langgraph-sdk<0.3.0,>=0.2.2->langgraph>=0.2.25->trustcall) (3.10)\n",
            "Requirement already satisfied: h11>=0.16 in /Users/vuhung/Desktop/LangGraph-Adventures/02.Agent/.venv/lib/python3.13/site-packages (from httpcore==1.*->httpx>=0.25.2->langgraph-sdk<0.3.0,>=0.2.2->langgraph>=0.2.25->trustcall) (0.16.0)\n",
            "Requirement already satisfied: langsmith>=0.3.45 in /Users/vuhung/Desktop/LangGraph-Adventures/02.Agent/.venv/lib/python3.13/site-packages (from langchain-core>=0.1->langgraph>=0.2.25->trustcall) (0.4.17)\n",
            "Requirement already satisfied: tenacity!=8.4.0,<10.0.0,>=8.1.0 in /Users/vuhung/Desktop/LangGraph-Adventures/02.Agent/.venv/lib/python3.13/site-packages (from langchain-core>=0.1->langgraph>=0.2.25->trustcall) (9.1.2)\n",
            "Requirement already satisfied: PyYAML>=5.3 in /Users/vuhung/Desktop/LangGraph-Adventures/02.Agent/.venv/lib/python3.13/site-packages (from langchain-core>=0.1->langgraph>=0.2.25->trustcall) (6.0.2)\n",
            "Requirement already satisfied: packaging>=23.2 in /Users/vuhung/Desktop/LangGraph-Adventures/02.Agent/.venv/lib/python3.13/site-packages (from langchain-core>=0.1->langgraph>=0.2.25->trustcall) (25.0)\n",
            "Requirement already satisfied: requests-toolbelt>=1.0.0 in /Users/vuhung/Desktop/LangGraph-Adventures/02.Agent/.venv/lib/python3.13/site-packages (from langsmith>=0.3.45->langchain-core>=0.1->langgraph>=0.2.25->trustcall) (1.0.0)\n",
            "Requirement already satisfied: requests>=2.0.0 in /Users/vuhung/Desktop/LangGraph-Adventures/02.Agent/.venv/lib/python3.13/site-packages (from langsmith>=0.3.45->langchain-core>=0.1->langgraph>=0.2.25->trustcall) (2.32.5)\n",
            "Requirement already satisfied: zstandard>=0.23.0 in /Users/vuhung/Desktop/LangGraph-Adventures/02.Agent/.venv/lib/python3.13/site-packages (from langsmith>=0.3.45->langchain-core>=0.1->langgraph>=0.2.25->trustcall) (0.24.0)\n",
            "Requirement already satisfied: charset_normalizer<4,>=2 in /Users/vuhung/Desktop/LangGraph-Adventures/02.Agent/.venv/lib/python3.13/site-packages (from requests>=2.0.0->langsmith>=0.3.45->langchain-core>=0.1->langgraph>=0.2.25->trustcall) (3.4.3)\n",
            "Requirement already satisfied: urllib3<3,>=1.21.1 in /Users/vuhung/Desktop/LangGraph-Adventures/02.Agent/.venv/lib/python3.13/site-packages (from requests>=2.0.0->langsmith>=0.3.45->langchain-core>=0.1->langgraph>=0.2.25->trustcall) (2.5.0)\n",
            "Requirement already satisfied: sniffio>=1.1 in /Users/vuhung/Desktop/LangGraph-Adventures/02.Agent/.venv/lib/python3.13/site-packages (from anyio->httpx>=0.25.2->langgraph-sdk<0.3.0,>=0.2.2->langgraph>=0.2.25->trustcall) (1.3.1)\n"
          ]
        }
      ],
      "source": [
        "!pip install trustcall"
      ]
    },
    {
      "cell_type": "code",
      "execution_count": 37,
      "metadata": {
        "id": "YTX_ZSrBjfIA"
      },
      "outputs": [],
      "source": [
        "from trustcall import create_extractor\n",
        "from langchain_google_genai import ChatGoogleGenerativeAI\n",
        "\n",
        "# Inspect the tool calls made by Trustcall\n",
        "class Spy:\n",
        "    def __init__(self):\n",
        "        self.called_tools = []\n",
        "\n",
        "    def __call__(self, run):\n",
        "        # Collect information about the tool calls made by the extractor.\n",
        "        q = [run]\n",
        "        while q:\n",
        "            r = q.pop()\n",
        "            if r.child_runs:\n",
        "                q.extend(r.child_runs)\n",
        "            if r.run_type == \"chat_model\":\n",
        "                self.called_tools.append(\n",
        "                    r.outputs[\"generations\"][0][0][\"message\"][\"kwargs\"][\"tool_calls\"]\n",
        "                )\n",
        "\n",
        "# Initialize the spy\n",
        "spy = Spy()\n",
        "\n",
        "# Initialize the model\n",
        "model = ChatGoogleGenerativeAI(model=\"gemini-2.5-flash\", temperature=0)\n",
        "\n",
        "# Create the extractor\n",
        "trustcall_extractor = create_extractor(\n",
        "    model,\n",
        "    tools=[Memory],\n",
        "    tool_choice=\"Memory\",\n",
        "    enable_inserts=True,\n",
        ")\n",
        "\n",
        "# Add the spy as a listener\n",
        "trustcall_extractor_see_all_tool_calls = trustcall_extractor.with_listeners(on_end=spy)"
      ]
    },
    {
      "cell_type": "code",
      "execution_count": 38,
      "metadata": {
        "id": "aSPfzdQBjfIA"
      },
      "outputs": [],
      "source": [
        "from langchain_core.messages import HumanMessage, SystemMessage, AIMessage\n",
        "\n",
        "# Instruction\n",
        "instruction = \"\"\"Extract memories from the following conversation:\"\"\"\n",
        "\n",
        "# Conversation\n",
        "conversation = [HumanMessage(content=\"Hi, I'm Lance.\"),\n",
        "                AIMessage(content=\"Nice to meet you, Lance.\"),\n",
        "                HumanMessage(content=\"This morning I had a nice bike ride in San Francisco.\")]\n",
        "\n",
        "# Invoke the extractor\n",
        "result = trustcall_extractor.invoke({\"messages\": [SystemMessage(content=instruction)] + conversation})"
      ]
    },
    {
      "cell_type": "code",
      "execution_count": 39,
      "metadata": {
        "id": "ofTkpVCIjfIB",
        "outputId": "63f4e475-85fe-4953-9992-1ff5e352f938"
      },
      "outputs": [
        {
          "name": "stdout",
          "output_type": "stream",
          "text": [
            "==================================\u001b[1m Ai Message \u001b[0m==================================\n",
            "Tool Calls:\n",
            "  Memory (652a5d88-1937-4ffb-8646-ee06d9ecaa3e)\n",
            " Call ID: 652a5d88-1937-4ffb-8646-ee06d9ecaa3e\n",
            "  Args:\n",
            "    content: User had a nice bike ride in San Francisco this morning.\n"
          ]
        }
      ],
      "source": [
        "# Messages contain the tool calls\n",
        "for m in result[\"messages\"]:\n",
        "    m.pretty_print()"
      ]
    },
    {
      "cell_type": "code",
      "execution_count": 40,
      "metadata": {
        "id": "VehjrVqvjfIB",
        "outputId": "bc0671ea-9ccd-4880-c0e7-67997219af6d"
      },
      "outputs": [
        {
          "name": "stdout",
          "output_type": "stream",
          "text": [
            "content='User had a nice bike ride in San Francisco this morning.'\n"
          ]
        }
      ],
      "source": [
        "# Responses contain the memories that adhere to the schema\n",
        "for m in result[\"responses\"]:\n",
        "    print(m)"
      ]
    },
    {
      "cell_type": "code",
      "execution_count": 41,
      "metadata": {
        "id": "sdc4byQbjfIC",
        "outputId": "2323d09f-10d9-4611-a436-7b1ed686fa8b"
      },
      "outputs": [
        {
          "name": "stdout",
          "output_type": "stream",
          "text": [
            "{'id': '652a5d88-1937-4ffb-8646-ee06d9ecaa3e'}\n"
          ]
        }
      ],
      "source": [
        "# Metadata contains the tool call\n",
        "for m in result[\"response_metadata\"]:\n",
        "    print(m)"
      ]
    },
    {
      "cell_type": "code",
      "execution_count": 42,
      "metadata": {
        "id": "0W2YC6oEjfIC",
        "outputId": "629dfd85-2839-42ad-feb2-d078706b88d2"
      },
      "outputs": [
        {
          "data": {
            "text/plain": [
              "[('0',\n",
              "  'Memory',\n",
              "  {'content': 'User had a nice bike ride in San Francisco this morning.'})]"
            ]
          },
          "execution_count": 42,
          "metadata": {},
          "output_type": "execute_result"
        }
      ],
      "source": [
        "# Update the conversation\n",
        "updated_conversation = [AIMessage(content=\"That's great, did you do after?\"),\n",
        "                        HumanMessage(content=\"I went to Tartine and ate a croissant.\"),\n",
        "                        AIMessage(content=\"What else is on your mind?\"),\n",
        "                        HumanMessage(content=\"I was thinking about my Japan, and going back this winter!\"),]\n",
        "\n",
        "# Update the instruction\n",
        "system_msg = \"\"\"Update existing memories and create new ones based on the following conversation:\"\"\"\n",
        "\n",
        "# We'll save existing memories, giving them an ID, key (tool name), and value\n",
        "tool_name = \"Memory\"\n",
        "existing_memories = [(str(i), tool_name, memory.model_dump()) for i, memory in enumerate(result[\"responses\"])] if result[\"responses\"] else None\n",
        "existing_memories"
      ]
    },
    {
      "cell_type": "code",
      "execution_count": 43,
      "metadata": {
        "id": "AOSlTPr-jfIC"
      },
      "outputs": [],
      "source": [
        "# Invoke the extractor with our updated conversation and existing memories\n",
        "result = trustcall_extractor_see_all_tool_calls.invoke({\"messages\": updated_conversation,\n",
        "                                                        \"existing\": existing_memories})"
      ]
    },
    {
      "cell_type": "code",
      "execution_count": 44,
      "metadata": {
        "id": "aaTN1Vb-jfIC",
        "outputId": "2dda469f-05a1-4b83-e280-4e92f2a8a14d"
      },
      "outputs": [
        {
          "name": "stdout",
          "output_type": "stream",
          "text": [
            "{'id': '80427a2b-9f54-48bf-b6dd-369d475fe193'}\n",
            "{'id': 'adb6af67-de1b-4752-9058-28033f370a2b'}\n"
          ]
        }
      ],
      "source": [
        "# Metadata contains the tool call\n",
        "for m in result[\"response_metadata\"]:\n",
        "    print(m)"
      ]
    },
    {
      "cell_type": "code",
      "execution_count": 45,
      "metadata": {
        "id": "V1dVCX6djfIC",
        "outputId": "496e4268-c159-4076-8169-68a2ae4d665a"
      },
      "outputs": [
        {
          "name": "stdout",
          "output_type": "stream",
          "text": [
            "==================================\u001b[1m Ai Message \u001b[0m==================================\n",
            "Tool Calls:\n",
            "  Memory (80427a2b-9f54-48bf-b6dd-369d475fe193)\n",
            " Call ID: 80427a2b-9f54-48bf-b6dd-369d475fe193\n",
            "  Args:\n",
            "    content: User went to Tartine and ate a croissant.\n",
            "  Memory (adb6af67-de1b-4752-9058-28033f370a2b)\n",
            " Call ID: adb6af67-de1b-4752-9058-28033f370a2b\n",
            "  Args:\n",
            "    content: User was thinking about Japan, and going back this winter.\n"
          ]
        }
      ],
      "source": [
        "# Messages contain the tool calls\n",
        "for m in result[\"messages\"]:\n",
        "    m.pretty_print()"
      ]
    },
    {
      "cell_type": "code",
      "execution_count": 46,
      "metadata": {
        "id": "iG8M0tZHjfIC",
        "outputId": "3d26e981-afa5-4a85-9aef-2071f1615248"
      },
      "outputs": [
        {
          "name": "stdout",
          "output_type": "stream",
          "text": [
            "content='User went to Tartine and ate a croissant.'\n",
            "content='User was thinking about Japan, and going back this winter.'\n"
          ]
        }
      ],
      "source": [
        "# Parsed responses\n",
        "for m in result[\"responses\"]:\n",
        "    print(m)"
      ]
    },
    {
      "cell_type": "code",
      "execution_count": 47,
      "metadata": {
        "id": "wxudGroEjfID",
        "outputId": "3f247894-8b3e-4009-b5e4-40d66dae7825"
      },
      "outputs": [
        {
          "data": {
            "text/plain": [
              "[[{'name': 'Memory',\n",
              "   'args': {'content': 'User went to Tartine and ate a croissant.'},\n",
              "   'id': '80427a2b-9f54-48bf-b6dd-369d475fe193',\n",
              "   'type': 'tool_call'},\n",
              "  {'name': 'Memory',\n",
              "   'args': {'content': 'User was thinking about Japan, and going back this winter.'},\n",
              "   'id': 'adb6af67-de1b-4752-9058-28033f370a2b',\n",
              "   'type': 'tool_call'}]]"
            ]
          },
          "execution_count": 47,
          "metadata": {},
          "output_type": "execute_result"
        }
      ],
      "source": [
        "# Inspect the tool calls made by Trustcall\n",
        "spy.called_tools"
      ]
    },
    {
      "cell_type": "code",
      "execution_count": 48,
      "metadata": {
        "id": "6ZNBTm6sjfID",
        "outputId": "9cc90e3e-276c-4334-daef-3e25984af42e"
      },
      "outputs": [
        {
          "name": "stdout",
          "output_type": "stream",
          "text": [
            "New Memory created:\n",
            "Content: {'content': 'User went to Tartine and ate a croissant.'}\n",
            "\n",
            "New Memory created:\n",
            "Content: {'content': 'User was thinking about Japan, and going back this winter.'}\n"
          ]
        }
      ],
      "source": [
        "def extract_tool_info(tool_calls, schema_name=\"Memory\"):\n",
        "    \"\"\"Extract information from tool calls for both patches and new memories.\n",
        "\n",
        "    Args:\n",
        "        tool_calls: List of tool calls from the model\n",
        "        schema_name: Name of the schema tool (e.g., \"Memory\", \"ToDo\", \"Profile\")\n",
        "    \"\"\"\n",
        "\n",
        "    # Initialize list of changes\n",
        "    changes = []\n",
        "\n",
        "    for call_group in tool_calls:\n",
        "        for call in call_group:\n",
        "            if call['name'] == 'PatchDoc':\n",
        "                changes.append({\n",
        "                    'type': 'update',\n",
        "                    'doc_id': call['args']['json_doc_id'],\n",
        "                    'planned_edits': call['args']['planned_edits'],\n",
        "                    'value': call['args']['patches'][0]['value']\n",
        "                })\n",
        "            elif call['name'] == schema_name:\n",
        "                changes.append({\n",
        "                    'type': 'new',\n",
        "                    'value': call['args']\n",
        "                })\n",
        "\n",
        "    # Format results as a single string\n",
        "    result_parts = []\n",
        "    for change in changes:\n",
        "        if change['type'] == 'update':\n",
        "            result_parts.append(\n",
        "                f\"Document {change['doc_id']} updated:\\n\"\n",
        "                f\"Plan: {change['planned_edits']}\\n\"\n",
        "                f\"Added content: {change['value']}\"\n",
        "            )\n",
        "        else:\n",
        "            result_parts.append(\n",
        "                f\"New {schema_name} created:\\n\"\n",
        "                f\"Content: {change['value']}\"\n",
        "            )\n",
        "\n",
        "    return \"\\n\\n\".join(result_parts)\n",
        "\n",
        "# Inspect spy.called_tools to see exactly what happened during the extraction\n",
        "schema_name = \"Memory\"\n",
        "changes = extract_tool_info(spy.called_tools, schema_name)\n",
        "print(changes)"
      ]
    },
    {
      "cell_type": "markdown",
      "metadata": {
        "id": "pkGKi3rzjfID"
      },
      "source": [
        "## Creating an agent\n",
        "\n",
        "There are many different [agent](https://langchain-ai.github.io/langgraph/concepts/high_level/) architectures to choose from.\n",
        "\n",
        "Here, we'll implement something simple, a [ReAct](https://langchain-ai.github.io/langgraph/concepts/agentic_concepts/#react-implementation) agent.\n",
        "\n",
        "This agent will be a helpful companion for creating and managing a ToDo list.\n",
        "\n",
        "This agent can make a decision to update three types of long-term memory:\n",
        "\n",
        "(a) Create or update a user `profile` with general user information\n",
        "\n",
        "(b) Add or update items in a ToDo list `collection`\n",
        "\n",
        "(c) Update its own `instructions` on how to update items to the ToDo list"
      ]
    },
    {
      "cell_type": "code",
      "execution_count": 49,
      "metadata": {
        "id": "ak7EL-_xjfID"
      },
      "outputs": [],
      "source": [
        "from typing import TypedDict, Literal\n",
        "\n",
        "# Update memory tool\n",
        "class UpdateMemory(TypedDict):\n",
        "    \"\"\" Decision on what memory type to update \"\"\"\n",
        "    update_type: Literal['user', 'todo', 'instructions']"
      ]
    },
    {
      "cell_type": "code",
      "execution_count": 50,
      "metadata": {
        "id": "eKb3wlTNjfID"
      },
      "outputs": [],
      "source": [
        "# Gemini API key is already set from .env.local"
      ]
    },
    {
      "cell_type": "markdown",
      "metadata": {
        "id": "p6muw4fKjfID"
      },
      "source": [
        "## Graph definition\n",
        "\n",
        "We add a simple router, `route_message`, that makes a binary decision to save memories.\n",
        "\n",
        "The memory collection updating is handled by `Trustcall` in the `write_memory` node, as before!"
      ]
    },
    {
      "cell_type": "code",
      "execution_count": 51,
      "metadata": {
        "id": "KQ8CFZGTjfID",
        "outputId": "50042e23-2ab0-40c0-ad65-50144a2f23d4"
      },
      "outputs": [
        {
          "data": {
            "image/png": "[encoded data removed]",
            "text/plain": [
              "<IPython.core.display.Image object>"
            ]
          },
          "metadata": {},
          "output_type": "display_data"
        }
      ],
      "source": [
        "import uuid\n",
        "from IPython.display import Image, display\n",
        "\n",
        "from datetime import datetime\n",
        "from trustcall import create_extractor\n",
        "from typing import Optional\n",
        "from pydantic import BaseModel, Field\n",
        "\n",
        "from langchain_core.runnables import RunnableConfig\n",
        "from langchain_core.messages import merge_message_runs, HumanMessage, SystemMessage\n",
        "\n",
        "from langgraph.checkpoint.memory import MemorySaver\n",
        "from langgraph.graph import StateGraph, MessagesState, END, START\n",
        "from langgraph.store.base import BaseStore\n",
        "from langgraph.store.memory import InMemoryStore\n",
        "\n",
        "from langchain_google_genai import ChatGoogleGenerativeAI\n",
        "\n",
        "# Initialize the model\n",
        "model = ChatGoogleGenerativeAI(model=\"gemini-2.5-flash\", temperature=0)\n",
        "\n",
        "# User profile schema\n",
        "class Profile(BaseModel):\n",
        "    \"\"\"This is the profile of the user you are chatting with\"\"\"\n",
        "    name: Optional[str] = Field(description=\"The user's name\", default=None)\n",
        "    location: Optional[str] = Field(description=\"The user's location\", default=None)\n",
        "    job: Optional[str] = Field(description=\"The user's job\", default=None)\n",
        "    connections: list[str] = Field(\n",
        "        description=\"Personal connection of the user, such as family members, friends, or coworkers\",\n",
        "        default_factory=list\n",
        "    )\n",
        "    interests: list[str] = Field(\n",
        "        description=\"Interests that the user has\",\n",
        "        default_factory=list\n",
        "    )\n",
        "\n",
        "# ToDo schema\n",
        "class ToDo(BaseModel):\n",
        "    task: str = Field(description=\"The task to be completed.\")\n",
        "    time_to_complete: Optional[int] = Field(description=\"Estimated time to complete the task (minutes).\")\n",
        "    deadline: Optional[datetime] = Field(\n",
        "        description=\"When the task needs to be completed by (if applicable)\",\n",
        "        default=None\n",
        "    )\n",
        "    solutions: list[str] = Field(\n",
        "        description=\"List of specific, actionable solutions (e.g., specific ideas, service providers, or concrete options relevant to completing the task)\",\n",
        "        min_items=1,\n",
        "        default_factory=list\n",
        "    )\n",
        "    status: Literal[\"not started\", \"in progress\", \"done\", \"archived\"] = Field(\n",
        "        description=\"Current status of the task\",\n",
        "        default=\"not started\"\n",
        "    )\n",
        "\n",
        "# Create the Trustcall extractor for updating the user profile\n",
        "profile_extractor = create_extractor(\n",
        "    model,\n",
        "    tools=[Profile],\n",
        "    tool_choice=\"Profile\",\n",
        ")\n",
        "\n",
        "# Chatbot instruction for choosing what to update and what tools to call\n",
        "MODEL_SYSTEM_MESSAGE = \"\"\"You are a helpful chatbot.\n",
        "\n",
        "You are designed to be a companion to a user, helping them keep track of their ToDo list.\n",
        "\n",
        "You have a long term memory which keeps track of three things:\n",
        "1. The user's profile (general information about them)\n",
        "2. The user's ToDo list\n",
        "3. General instructions for updating the ToDo list\n",
        "\n",
        "Here is the current User Profile (may be empty if no information has been collected yet):\n",
        "<user_profile>\n",
        "{user_profile}\n",
        "</user_profile>\n",
        "\n",
        "Here is the current ToDo List (may be empty if no tasks have been added yet):\n",
        "<todo>\n",
        "{todo}\n",
        "</todo>\n",
        "\n",
        "Here are the current user-specified preferences for updating the ToDo list (may be empty if no preferences have been specified yet):\n",
        "<instructions>\n",
        "{instructions}\n",
        "</instructions>\n",
        "\n",
        "Here are your instructions for reasoning about the user's messages:\n",
        "\n",
        "1. Reason carefully about the user's messages as presented below.\n",
        "\n",
        "2. Decide whether any of the your long-term memory should be updated:\n",
        "- If personal information was provided about the user, update the user's profile by calling UpdateMemory tool with type `user`\n",
        "- If tasks are mentioned, update the ToDo list by calling UpdateMemory tool with type `todo`\n",
        "- If the user has specified preferences for how to update the ToDo list, update the instructions by calling UpdateMemory tool with type `instructions`\n",
        "\n",
        "3. Tell the user that you have updated your memory, if appropriate:\n",
        "- Do not tell the user you have updated the user's profile\n",
        "- Tell the user them when you update the todo list\n",
        "- Do not tell the user that you have updated instructions\n",
        "\n",
        "4. Err on the side of updating the todo list. No need to ask for explicit permission.\n",
        "\n",
        "5. Respond naturally to user user after a tool call was made to save memories, or if no tool call was made.\"\"\"\n",
        "\n",
        "# Trustcall instruction\n",
        "TRUSTCALL_INSTRUCTION = \"\"\"Reflect on following interaction.\n",
        "\n",
        "Use the provided tools to retain any necessary memories about the user.\n",
        "\n",
        "Use parallel tool calling to handle updates and insertions simultaneously.\n",
        "\n",
        "System Time: {time}\"\"\"\n",
        "\n",
        "# Instructions for updating the ToDo list\n",
        "CREATE_INSTRUCTIONS = \"\"\"Reflect on the following interaction.\n",
        "\n",
        "Based on this interaction, update your instructions for how to update ToDo list items.\n",
        "\n",
        "Use any feedback from the user to update how they like to have items added, etc.\n",
        "\n",
        "Your current instructions are:\n",
        "\n",
        "<current_instructions>\n",
        "{current_instructions}\n",
        "</current_instructions>\"\"\"\n",
        "\n",
        "# Node definitions\n",
        "def task_mAIstro(state: MessagesState, config: RunnableConfig, store: BaseStore):\n",
        "\n",
        "    \"\"\"Load memories from the store and use them to personalize the chatbot's response.\"\"\"\n",
        "\n",
        "    # Get the user ID from the config\n",
        "    user_id = config[\"configurable\"][\"user_id\"]\n",
        "\n",
        "    # Retrieve profile memory from the store\n",
        "    namespace = (\"profile\", user_id)\n",
        "    memories = store.search(namespace)\n",
        "    if memories:\n",
        "        user_profile = memories[0].value\n",
        "    else:\n",
        "        user_profile = None\n",
        "\n",
        "    # Retrieve task memory from the store\n",
        "    namespace = (\"todo\", user_id)\n",
        "    memories = store.search(namespace)\n",
        "    todo = \"\\n\".join(f\"{mem.value}\" for mem in memories)\n",
        "\n",
        "    # Retrieve custom instructions\n",
        "    namespace = (\"instructions\", user_id)\n",
        "    memories = store.search(namespace)\n",
        "    if memories:\n",
        "        instructions = memories[0].value\n",
        "    else:\n",
        "        instructions = \"\"\n",
        "\n",
        "    system_msg = MODEL_SYSTEM_MESSAGE.format(user_profile=user_profile, todo=todo, instructions=instructions)\n",
        "\n",
        "    # Respond using memory as well as the chat history\n",
        "    response = model.bind_tools([UpdateMemory], parallel_tool_calls=False).invoke([SystemMessage(content=system_msg)]+state[\"messages\"])\n",
        "\n",
        "    return {\"messages\": [response]}\n",
        "\n",
        "def update_profile(state: MessagesState, config: RunnableConfig, store: BaseStore):\n",
        "\n",
        "    \"\"\"Reflect on the chat history and update the memory collection.\"\"\"\n",
        "\n",
        "    # Get the user ID from the config\n",
        "    user_id = config[\"configurable\"][\"user_id\"]\n",
        "\n",
        "    # Define the namespace for the memories\n",
        "    namespace = (\"profile\", user_id)\n",
        "\n",
        "    # Retrieve the most recent memories for context\n",
        "    existing_items = store.search(namespace)\n",
        "\n",
        "    # Format the existing memories for the Trustcall extractor\n",
        "    tool_name = \"Profile\"\n",
        "    existing_memories = ([(existing_item.key, tool_name, existing_item.value)\n",
        "                          for existing_item in existing_items]\n",
        "                          if existing_items\n",
        "                          else None\n",
        "                        )\n",
        "\n",
        "    # Merge the chat history and the instruction\n",
        "    TRUSTCALL_INSTRUCTION_FORMATTED=TRUSTCALL_INSTRUCTION.format(time=datetime.now().isoformat())\n",
        "    updated_messages=list(merge_message_runs(messages=[SystemMessage(content=TRUSTCALL_INSTRUCTION_FORMATTED)] + state[\"messages\"][:-1]))\n",
        "\n",
        "    # Invoke the extractor\n",
        "    result = profile_extractor.invoke({\"messages\": updated_messages,\n",
        "                                         \"existing\": existing_memories})\n",
        "\n",
        "    # Save the memories from Trustcall to the store\n",
        "    for r, rmeta in zip(result[\"responses\"], result[\"response_metadata\"]):\n",
        "        store.put(namespace,\n",
        "                  rmeta.get(\"json_doc_id\", str(uuid.uuid4())),\n",
        "                  r.model_dump(mode=\"json\"),\n",
        "            )\n",
        "    tool_calls = state['messages'][-1].tool_calls\n",
        "    return {\"messages\": [{\"role\": \"tool\", \"content\": \"updated profile\", \"tool_call_id\":tool_calls[0]['id']}]}\n",
        "\n",
        "def update_todos(state: MessagesState, config: RunnableConfig, store: BaseStore):\n",
        "\n",
        "    \"\"\"Reflect on the chat history and update the memory collection.\"\"\"\n",
        "\n",
        "    # Get the user ID from the config\n",
        "    user_id = config[\"configurable\"][\"user_id\"]\n",
        "\n",
        "    # Define the namespace for the memories\n",
        "    namespace = (\"todo\", user_id)\n",
        "\n",
        "    # Retrieve the most recent memories for context\n",
        "    existing_items = store.search(namespace)\n",
        "\n",
        "    # Format the existing memories for the Trustcall extractor\n",
        "    tool_name = \"ToDo\"\n",
        "    existing_memories = ([(existing_item.key, tool_name, existing_item.value)\n",
        "                          for existing_item in existing_items]\n",
        "                          if existing_items\n",
        "                          else None\n",
        "                        )\n",
        "\n",
        "    # Merge the chat history and the instruction\n",
        "    TRUSTCALL_INSTRUCTION_FORMATTED=TRUSTCALL_INSTRUCTION.format(time=datetime.now().isoformat())\n",
        "    updated_messages=list(merge_message_runs(messages=[SystemMessage(content=TRUSTCALL_INSTRUCTION_FORMATTED)] + state[\"messages\"][:-1]))\n",
        "\n",
        "    # Initialize the spy for visibility into the tool calls made by Trustcall\n",
        "    spy = Spy()\n",
        "\n",
        "    # Create the Trustcall extractor for updating the ToDo list\n",
        "    todo_extractor = create_extractor(\n",
        "    model,\n",
        "    tools=[ToDo],\n",
        "    tool_choice=tool_name,\n",
        "    enable_inserts=True\n",
        "    ).with_listeners(on_end=spy)\n",
        "\n",
        "    # Invoke the extractor\n",
        "    result = todo_extractor.invoke({\"messages\": updated_messages,\n",
        "                                    \"existing\": existing_memories})\n",
        "\n",
        "    # Save the memories from Trustcall to the store\n",
        "    for r, rmeta in zip(result[\"responses\"], result[\"response_metadata\"]):\n",
        "        store.put(namespace,\n",
        "                  rmeta.get(\"json_doc_id\", str(uuid.uuid4())),\n",
        "                  r.model_dump(mode=\"json\"),\n",
        "            )\n",
        "\n",
        "    # Respond to the tool call made in task_mAIstro, confirming the update\n",
        "    tool_calls = state['messages'][-1].tool_calls\n",
        "\n",
        "    # Extract the changes made by Trustcall and add the the ToolMessage returned to task_mAIstro\n",
        "    todo_update_msg = extract_tool_info(spy.called_tools, tool_name)\n",
        "    return {\"messages\": [{\"role\": \"tool\", \"content\": todo_update_msg, \"tool_call_id\":tool_calls[0]['id']}]}\n",
        "\n",
        "def update_instructions(state: MessagesState, config: RunnableConfig, store: BaseStore):\n",
        "\n",
        "    \"\"\"Reflect on the chat history and update the memory collection.\"\"\"\n",
        "\n",
        "    # Get the user ID from the config\n",
        "    user_id = config[\"configurable\"][\"user_id\"]\n",
        "\n",
        "    namespace = (\"instructions\", user_id)\n",
        "\n",
        "    existing_memory = store.get(namespace, \"user_instructions\")\n",
        "\n",
        "    # Format the memory in the system prompt\n",
        "    system_msg = CREATE_INSTRUCTIONS.format(current_instructions=existing_memory.value if existing_memory else None)\n",
        "    new_memory = model.invoke([SystemMessage(content=system_msg)]+state['messages'][:-1] + [HumanMessage(content=\"Please update the instructions based on the conversation\")])\n",
        "\n",
        "    # Overwrite the existing memory in the store\n",
        "    key = \"user_instructions\"\n",
        "    store.put(namespace, key, {\"memory\": new_memory.content})\n",
        "    tool_calls = state['messages'][-1].tool_calls\n",
        "    return {\"messages\": [{\"role\": \"tool\", \"content\": \"updated instructions\", \"tool_call_id\":tool_calls[0]['id']}]}\n",
        "\n",
        "# Conditional edge\n",
        "def route_message(state: MessagesState, config: RunnableConfig, store: BaseStore) -> Literal[END, \"update_todos\", \"update_instructions\", \"update_profile\"]:\n",
        "\n",
        "    \"\"\"Reflect on the memories and chat history to decide whether to update the memory collection.\"\"\"\n",
        "    message = state['messages'][-1]\n",
        "    if len(message.tool_calls) ==0:\n",
        "        return END\n",
        "    else:\n",
        "        tool_call = message.tool_calls[0]\n",
        "        if tool_call['args']['update_type'] == \"user\":\n",
        "            return \"update_profile\"\n",
        "        elif tool_call['args']['update_type'] == \"todo\":\n",
        "            return \"update_todos\"\n",
        "        elif tool_call['args']['update_type'] == \"instructions\":\n",
        "            return \"update_instructions\"\n",
        "        else:\n",
        "            raise ValueError\n",
        "\n",
        "# Create the graph + all nodes\n",
        "builder = StateGraph(MessagesState)\n",
        "\n",
        "# Define the flow of the memory extraction process\n",
        "builder.add_node(task_mAIstro)\n",
        "builder.add_node(update_todos)\n",
        "builder.add_node(update_profile)\n",
        "builder.add_node(update_instructions)\n",
        "builder.add_edge(START, \"task_mAIstro\")\n",
        "builder.add_conditional_edges(\"task_mAIstro\", route_message)\n",
        "builder.add_edge(\"update_todos\", \"task_mAIstro\")\n",
        "builder.add_edge(\"update_profile\", \"task_mAIstro\")\n",
        "builder.add_edge(\"update_instructions\", \"task_mAIstro\")\n",
        "\n",
        "# Store for long-term (across-thread) memory\n",
        "across_thread_memory = InMemoryStore()\n",
        "\n",
        "# Checkpointer for short-term (within-thread) memory\n",
        "within_thread_memory = MemorySaver()\n",
        "\n",
        "# We compile the graph with the checkpointer and store\n",
        "graph = builder.compile(checkpointer=within_thread_memory, store=across_thread_memory)\n",
        "\n",
        "# View\n",
        "display(Image(graph.get_graph(xray=1).draw_mermaid_png()))"
      ]
    },
    {
      "cell_type": "code",
      "execution_count": 52,
      "metadata": {
        "id": "IODap4KfjfIE",
        "outputId": "5fdcc317-d651-4a7d-c4e8-438a9c0ac6fe"
      },
      "outputs": [
        {
          "name": "stdout",
          "output_type": "stream",
          "text": [
            "================================\u001b[1m Human Message \u001b[0m=================================\n",
            "\n",
            "My name is Lance. I live in SF with my wife. I have a 1 year old daughter.\n",
            "==================================\u001b[1m Ai Message \u001b[0m==================================\n",
            "Tool Calls:\n",
            "  UpdateMemory (e6f1c923-4e17-444e-8f86-01d397cd91f4)\n",
            " Call ID: e6f1c923-4e17-444e-8f86-01d397cd91f4\n",
            "  Args:\n",
            "    update_type: user\n",
            "=================================\u001b[1m Tool Message \u001b[0m=================================\n",
            "\n",
            "updated profile\n",
            "==================================\u001b[1m Ai Message \u001b[0m==================================\n",
            "\n",
            "Hello Lance! It's nice to meet you and learn a bit about your family.\n"
          ]
        }
      ],
      "source": [
        "# We supply a thread ID for short-term (within-thread) memory\n",
        "# We supply a user ID for long-term (across-thread) memory\n",
        "config = {\"configurable\": {\"thread_id\": \"1\", \"user_id\": \"Lance\"}}\n",
        "\n",
        "# User input to create a profile memory\n",
        "input_messages = [HumanMessage(content=\"My name is Lance. I live in SF with my wife. I have a 1 year old daughter.\")]\n",
        "\n",
        "# Run the graph\n",
        "for chunk in graph.stream({\"messages\": input_messages}, config, stream_mode=\"values\"):\n",
        "    chunk[\"messages\"][-1].pretty_print()"
      ]
    },
    {
      "cell_type": "code",
      "execution_count": 53,
      "metadata": {
        "id": "Kw3Mc25ljfIE",
        "outputId": "42e27c9b-b5b2-48b4-911f-ed56032ab98b"
      },
      "outputs": [
        {
          "name": "stdout",
          "output_type": "stream",
          "text": [
            "================================\u001b[1m Human Message \u001b[0m=================================\n",
            "\n",
            "My wife asked me to book swim lessons for the baby.\n",
            "==================================\u001b[1m Ai Message \u001b[0m==================================\n",
            "Tool Calls:\n",
            "  UpdateMemory (18070f4a-33b9-40b1-8cac-6c7da3b1f0c3)\n",
            " Call ID: 18070f4a-33b9-40b1-8cac-6c7da3b1f0c3\n",
            "  Args:\n",
            "    update_type: todo\n",
            "=================================\u001b[1m Tool Message \u001b[0m=================================\n",
            "\n",
            "New ToDo created:\n",
            "Content: {'status': 'not started', 'task': 'Book swim lessons for the baby', 'solutions': ['Research local swim schools', 'Check availability and pricing', 'Book lessons'], 'time_to_complete': 30.0}\n",
            "==================================\u001b[1m Ai Message \u001b[0m==================================\n",
            "\n",
            "I've added \"Book swim lessons for the baby\" to your ToDo list. I've also broken it down into a few steps: research local swim schools, check availability and pricing, and book the lessons. Let me know if you'd like to add anything else!\n"
          ]
        }
      ],
      "source": [
        "# User input for a ToDo\n",
        "input_messages = [HumanMessage(content=\"My wife asked me to book swim lessons for the baby.\")]\n",
        "\n",
        "# Run the graph\n",
        "for chunk in graph.stream({\"messages\": input_messages}, config, stream_mode=\"values\"):\n",
        "    chunk[\"messages\"][-1].pretty_print()"
      ]
    },
    {
      "cell_type": "code",
      "execution_count": 54,
      "metadata": {
        "id": "txdSapxFjfIE",
        "outputId": "8b67f2bb-1079-4270-ccc0-0511232455fa"
      },
      "outputs": [
        {
          "name": "stdout",
          "output_type": "stream",
          "text": [
            "================================\u001b[1m Human Message \u001b[0m=================================\n",
            "\n",
            "When creating or updating ToDo items, include specific local businesses / vendors.\n",
            "==================================\u001b[1m Ai Message \u001b[0m==================================\n",
            "Tool Calls:\n",
            "  UpdateMemory (9df422c0-68e0-47d2-9c1f-ec3ef82c0f6f)\n",
            " Call ID: 9df422c0-68e0-47d2-9c1f-ec3ef82c0f6f\n",
            "  Args:\n",
            "    update_type: instructions\n",
            "=================================\u001b[1m Tool Message \u001b[0m=================================\n",
            "\n",
            "updated instructions\n"
          ]
        },
        {
          "name": "stderr",
          "output_type": "stream",
          "text": [
            "Retrying langchain_google_genai.chat_models._chat_with_retry.<locals>._chat_with_retry in 2.0 seconds as it raised ResourceExhausted: 429 You exceeded your current quota, please check your plan and billing details. For more information on this error, head to: https://ai.google.dev/gemini-api/docs/rate-limits. [violations {\n",
            "  quota_metric: \"generativelanguage.googleapis.com/generate_content_free_tier_requests\"\n",
            "  quota_id: \"GenerateRequestsPerMinutePerProjectPerModel-FreeTier\"\n",
            "  quota_dimensions {\n",
            "    key: \"model\"\n",
            "    value: \"gemini-2.5-flash\"\n",
            "  }\n",
            "  quota_dimensions {\n",
            "    key: \"location\"\n",
            "    value: \"global\"\n",
            "  }\n",
            "  quota_value: 10\n",
            "}\n",
            ", links {\n",
            "  description: \"Learn more about Gemini API quotas\"\n",
            "  url: \"https://ai.google.dev/gemini-api/docs/rate-limits\"\n",
            "}\n",
            ", retry_delay {\n",
            "  seconds: 20\n",
            "}\n",
            "].\n",
            "Retrying langchain_google_genai.chat_models._chat_with_retry.<locals>._chat_with_retry in 4.0 seconds as it raised ResourceExhausted: 429 You exceeded your current quota, please check your plan and billing details. For more information on this error, head to: https://ai.google.dev/gemini-api/docs/rate-limits. [violations {\n",
            "  quota_metric: \"generativelanguage.googleapis.com/generate_content_free_tier_requests\"\n",
            "  quota_id: \"GenerateRequestsPerMinutePerProjectPerModel-FreeTier\"\n",
            "  quota_dimensions {\n",
            "    key: \"model\"\n",
            "    value: \"gemini-2.5-flash\"\n",
            "  }\n",
            "  quota_dimensions {\n",
            "    key: \"location\"\n",
            "    value: \"global\"\n",
            "  }\n",
            "  quota_value: 10\n",
            "}\n",
            ", links {\n",
            "  description: \"Learn more about Gemini API quotas\"\n",
            "  url: \"https://ai.google.dev/gemini-api/docs/rate-limits\"\n",
            "}\n",
            ", retry_delay {\n",
            "  seconds: 18\n",
            "}\n",
            "].\n",
            "Retrying langchain_google_genai.chat_models._chat_with_retry.<locals>._chat_with_retry in 8.0 seconds as it raised ResourceExhausted: 429 You exceeded your current quota, please check your plan and billing details. For more information on this error, head to: https://ai.google.dev/gemini-api/docs/rate-limits. [violations {\n",
            "  quota_metric: \"generativelanguage.googleapis.com/generate_content_free_tier_requests\"\n",
            "  quota_id: \"GenerateRequestsPerMinutePerProjectPerModel-FreeTier\"\n",
            "  quota_dimensions {\n",
            "    key: \"model\"\n",
            "    value: \"gemini-2.5-flash\"\n",
            "  }\n",
            "  quota_dimensions {\n",
            "    key: \"location\"\n",
            "    value: \"global\"\n",
            "  }\n",
            "  quota_value: 10\n",
            "}\n",
            ", links {\n",
            "  description: \"Learn more about Gemini API quotas\"\n",
            "  url: \"https://ai.google.dev/gemini-api/docs/rate-limits\"\n",
            "}\n",
            ", retry_delay {\n",
            "  seconds: 13\n",
            "}\n",
            "].\n",
            "Retrying langchain_google_genai.chat_models._chat_with_retry.<locals>._chat_with_retry in 16.0 seconds as it raised ResourceExhausted: 429 You exceeded your current quota, please check your plan and billing details. For more information on this error, head to: https://ai.google.dev/gemini-api/docs/rate-limits. [violations {\n",
            "  quota_metric: \"generativelanguage.googleapis.com/generate_content_free_tier_requests\"\n",
            "  quota_id: \"GenerateRequestsPerMinutePerProjectPerModel-FreeTier\"\n",
            "  quota_dimensions {\n",
            "    key: \"model\"\n",
            "    value: \"gemini-2.5-flash\"\n",
            "  }\n",
            "  quota_dimensions {\n",
            "    key: \"location\"\n",
            "    value: \"global\"\n",
            "  }\n",
            "  quota_value: 10\n",
            "}\n",
            ", links {\n",
            "  description: \"Learn more about Gemini API quotas\"\n",
            "  url: \"https://ai.google.dev/gemini-api/docs/rate-limits\"\n",
            "}\n",
            ", retry_delay {\n",
            "  seconds: 5\n",
            "}\n",
            "].\n",
            "Retrying langchain_google_genai.chat_models._chat_with_retry.<locals>._chat_with_retry in 32.0 seconds as it raised ResourceExhausted: 429 You exceeded your current quota, please check your plan and billing details. For more information on this error, head to: https://ai.google.dev/gemini-api/docs/rate-limits. [violations {\n",
            "  quota_metric: \"generativelanguage.googleapis.com/generate_content_free_tier_requests\"\n",
            "  quota_id: \"GenerateRequestsPerMinutePerProjectPerModel-FreeTier\"\n",
            "  quota_dimensions {\n",
            "    key: \"model\"\n",
            "    value: \"gemini-2.5-flash\"\n",
            "  }\n",
            "  quota_dimensions {\n",
            "    key: \"location\"\n",
            "    value: \"global\"\n",
            "  }\n",
            "  quota_value: 10\n",
            "}\n",
            ", links {\n",
            "  description: \"Learn more about Gemini API quotas\"\n",
            "  url: \"https://ai.google.dev/gemini-api/docs/rate-limits\"\n",
            "}\n",
            ", retry_delay {\n",
            "  seconds: 49\n",
            "}\n",
            "].\n"
          ]
        },
        {
          "name": "stdout",
          "output_type": "stream",
          "text": [
            "==================================\u001b[1m Ai Message \u001b[0m==================================\n",
            "\n",
            "Okay, Lance, I've noted that for future ToDo items.\n",
            "\n",
            "Here are your updated instructions for how to update ToDo list items:\n",
            "\n",
            "<current_instructions>\n",
            "When creating or updating ToDo items, include specific local businesses / vendors.\n",
            "</current_instructions>\n"
          ]
        }
      ],
      "source": [
        "# User input to update instructions for creating ToDos\n",
        "input_messages = [HumanMessage(content=\"When creating or updating ToDo items, include specific local businesses / vendors.\")]\n",
        "\n",
        "# Run the graph\n",
        "for chunk in graph.stream({\"messages\": input_messages}, config, stream_mode=\"values\"):\n",
        "    chunk[\"messages\"][-1].pretty_print()"
      ]
    },
    {
      "cell_type": "code",
      "execution_count": 55,
      "metadata": {
        "id": "r6XEqrXrjfIF",
        "outputId": "e97ffce3-1c3e-444d-a921-6b01d699903c"
      },
      "outputs": [
        {
          "name": "stdout",
          "output_type": "stream",
          "text": [
            "{'memory': \"Okay, Lance, I've noted that for future ToDo items.\\n\\nHere are your updated instructions for how to update ToDo list items:\\n\\n<current_instructions>\\nWhen creating or updating ToDo items, include specific local businesses / vendors.\\n</current_instructions>\"}\n"
          ]
        }
      ],
      "source": [
        "# Check for updated instructions\n",
        "user_id = \"Lance\"\n",
        "\n",
        "# Search\n",
        "for memory in across_thread_memory.search((\"instructions\", user_id)):\n",
        "    print(memory.value)"
      ]
    },
    {
      "cell_type": "code",
      "execution_count": 56,
      "metadata": {
        "id": "aGb3f7_bjfIF",
        "outputId": "a03b238b-de1d-4715-c2ce-115f345892db"
      },
      "outputs": [
        {
          "name": "stdout",
          "output_type": "stream",
          "text": [
            "================================\u001b[1m Human Message \u001b[0m=================================\n",
            "\n",
            "I need to fix the jammed electric Yale lock on the door.\n",
            "==================================\u001b[1m Ai Message \u001b[0m==================================\n",
            "Tool Calls:\n",
            "  UpdateMemory (8bd88845-1fbb-47f0-bdf2-e768d7334f1a)\n",
            " Call ID: 8bd88845-1fbb-47f0-bdf2-e768d7334f1a\n",
            "  Args:\n",
            "    update_type: todo\n",
            "=================================\u001b[1m Tool Message \u001b[0m=================================\n",
            "\n",
            "New ToDo created:\n",
            "Content: {'status': 'not started', 'task': 'Fix the jammed electric Yale lock on the door', 'solutions': ['Troubleshoot the lock (check battery, alignment, etc.)', 'Contact a local locksmith in SF (e.g., San Francisco Locksmith, My Local Locksmith SF)', 'Contact Yale customer support'], 'time_to_complete': 60.0}\n",
            "==================================\u001b[1m Ai Message \u001b[0m==================================\n",
            "\n",
            "I've added \"Fix the jammed electric Yale lock on the door\" to your ToDo list. I've also included some potential solutions, like troubleshooting the lock, contacting a local locksmith in SF (such as San Francisco Locksmith or My Local Locksmith SF), or reaching out to Yale customer support.\n"
          ]
        }
      ],
      "source": [
        "# User input for a ToDo\n",
        "input_messages = [HumanMessage(content=\"I need to fix the jammed electric Yale lock on the door.\")]\n",
        "\n",
        "# Run the graph\n",
        "for chunk in graph.stream({\"messages\": input_messages}, config, stream_mode=\"values\"):\n",
        "    chunk[\"messages\"][-1].pretty_print()"
      ]
    },
    {
      "cell_type": "code",
      "execution_count": 57,
      "metadata": {
        "id": "b68T_CukjfIF",
        "outputId": "5008bb6c-1ad6-4eaa-eb01-5c3219883aed"
      },
      "outputs": [
        {
          "name": "stdout",
          "output_type": "stream",
          "text": [
            "{'task': 'Book swim lessons for the baby', 'time_to_complete': 30, 'deadline': None, 'solutions': ['Research local swim schools', 'Check availability and pricing', 'Book lessons'], 'status': 'not started'}\n",
            "{'task': 'Fix the jammed electric Yale lock on the door', 'time_to_complete': 60, 'deadline': None, 'solutions': ['Troubleshoot the lock (check battery, alignment, etc.)', 'Contact a local locksmith in SF (e.g., San Francisco Locksmith, My Local Locksmith SF)', 'Contact Yale customer support'], 'status': 'not started'}\n"
          ]
        }
      ],
      "source": [
        "# Namespace for the memory to save\n",
        "user_id = \"Lance\"\n",
        "\n",
        "# Search\n",
        "for memory in across_thread_memory.search((\"todo\", user_id)):\n",
        "    print(memory.value)"
      ]
    },
    {
      "cell_type": "code",
      "execution_count": 58,
      "metadata": {
        "id": "L4893wz4jfIF",
        "outputId": "dc5acd38-ff62-4793-b4e4-90de68a1a57e"
      },
      "outputs": [
        {
          "name": "stdout",
          "output_type": "stream",
          "text": [
            "================================\u001b[1m Human Message \u001b[0m=================================\n",
            "\n",
            "For the swim lessons, I need to get that done by end of November.\n",
            "==================================\u001b[1m Ai Message \u001b[0m==================================\n",
            "Tool Calls:\n",
            "  UpdateMemory (05019c79-6f8e-4978-80dc-0722592b7dd5)\n",
            " Call ID: 05019c79-6f8e-4978-80dc-0722592b7dd5\n",
            "  Args:\n",
            "    update_type: todo\n",
            "=================================\u001b[1m Tool Message \u001b[0m=================================\n",
            "\n",
            "Document 5516807b-8815-421f-8845-12da7d640f10 updated:\n",
            "Plan: The user wants to set a deadline for the 'Book swim lessons for the baby' task. I need to update the 'deadline' field of the ToDo item with the value 'End of November'.\n",
            "Added content: End of November\n",
            "==================================\u001b[1m Ai Message \u001b[0m==================================\n",
            "\n",
            "I've updated the \"Book swim lessons for the baby\" task with a deadline of end of November.\n"
          ]
        }
      ],
      "source": [
        "# User input to update an existing ToDo\n",
        "input_messages = [HumanMessage(content=\"For the swim lessons, I need to get that done by end of November.\")]\n",
        "\n",
        "# Run the graph\n",
        "for chunk in graph.stream({\"messages\": input_messages}, config, stream_mode=\"values\"):\n",
        "    chunk[\"messages\"][-1].pretty_print()"
      ]
    },
    {
      "cell_type": "markdown",
      "metadata": {
        "id": "1grTVd9EjfIF"
      },
      "source": [
        "We can see that Trustcall performs patching of the existing memory:\n",
        "\n",
        "https://smith.langchain.com/public/4ad3a8af-3b1e-493d-b163-3111aa3d575a/r"
      ]
    },
    {
      "cell_type": "code",
      "execution_count": 59,
      "metadata": {
        "id": "oVw3HHXwjfIF",
        "outputId": "e7833dd9-b07a-46ce-db03-ccd300edaae7"
      },
      "outputs": [
        {
          "name": "stdout",
          "output_type": "stream",
          "text": [
            "================================\u001b[1m Human Message \u001b[0m=================================\n",
            "\n",
            "Need to call back City Toyota to schedule car service.\n",
            "==================================\u001b[1m Ai Message \u001b[0m==================================\n",
            "Tool Calls:\n",
            "  UpdateMemory (0a4f3e52-b812-46cc-9fa0-24131e6aef20)\n",
            " Call ID: 0a4f3e52-b812-46cc-9fa0-24131e6aef20\n",
            "  Args:\n",
            "    update_type: todo\n",
            "=================================\u001b[1m Tool Message \u001b[0m=================================\n",
            "\n",
            "New ToDo created:\n",
            "Content: {'task': 'Call back City Toyota to schedule car service', 'solutions': ['Call City Toyota to schedule car service'], 'time_to_complete': 15.0}\n"
          ]
        },
        {
          "name": "stderr",
          "output_type": "stream",
          "text": [
            "Retrying langchain_google_genai.chat_models._chat_with_retry.<locals>._chat_with_retry in 2.0 seconds as it raised ResourceExhausted: 429 You exceeded your current quota, please check your plan and billing details. For more information on this error, head to: https://ai.google.dev/gemini-api/docs/rate-limits. [violations {\n",
            "  quota_metric: \"generativelanguage.googleapis.com/generate_content_free_tier_requests\"\n",
            "  quota_id: \"GenerateRequestsPerMinutePerProjectPerModel-FreeTier\"\n",
            "  quota_dimensions {\n",
            "    key: \"model\"\n",
            "    value: \"gemini-2.5-flash\"\n",
            "  }\n",
            "  quota_dimensions {\n",
            "    key: \"location\"\n",
            "    value: \"global\"\n",
            "  }\n",
            "  quota_value: 10\n",
            "}\n",
            ", links {\n",
            "  description: \"Learn more about Gemini API quotas\"\n",
            "  url: \"https://ai.google.dev/gemini-api/docs/rate-limits\"\n",
            "}\n",
            ", retry_delay {\n",
            "  seconds: 58\n",
            "}\n",
            "].\n",
            "Retrying langchain_google_genai.chat_models._chat_with_retry.<locals>._chat_with_retry in 4.0 seconds as it raised ResourceExhausted: 429 You exceeded your current quota, please check your plan and billing details. For more information on this error, head to: https://ai.google.dev/gemini-api/docs/rate-limits. [violations {\n",
            "  quota_metric: \"generativelanguage.googleapis.com/generate_content_free_tier_requests\"\n",
            "  quota_id: \"GenerateRequestsPerMinutePerProjectPerModel-FreeTier\"\n",
            "  quota_dimensions {\n",
            "    key: \"model\"\n",
            "    value: \"gemini-2.5-flash\"\n",
            "  }\n",
            "  quota_dimensions {\n",
            "    key: \"location\"\n",
            "    value: \"global\"\n",
            "  }\n",
            "  quota_value: 10\n",
            "}\n",
            ", links {\n",
            "  description: \"Learn more about Gemini API quotas\"\n",
            "  url: \"https://ai.google.dev/gemini-api/docs/rate-limits\"\n",
            "}\n",
            ", retry_delay {\n",
            "  seconds: 56\n",
            "}\n",
            "].\n",
            "Retrying langchain_google_genai.chat_models._chat_with_retry.<locals>._chat_with_retry in 8.0 seconds as it raised ResourceExhausted: 429 You exceeded your current quota, please check your plan and billing details. For more information on this error, head to: https://ai.google.dev/gemini-api/docs/rate-limits. [violations {\n",
            "  quota_metric: \"generativelanguage.googleapis.com/generate_content_free_tier_requests\"\n",
            "  quota_id: \"GenerateRequestsPerMinutePerProjectPerModel-FreeTier\"\n",
            "  quota_dimensions {\n",
            "    key: \"model\"\n",
            "    value: \"gemini-2.5-flash\"\n",
            "  }\n",
            "  quota_dimensions {\n",
            "    key: \"location\"\n",
            "    value: \"global\"\n",
            "  }\n",
            "  quota_value: 10\n",
            "}\n",
            ", links {\n",
            "  description: \"Learn more about Gemini API quotas\"\n",
            "  url: \"https://ai.google.dev/gemini-api/docs/rate-limits\"\n",
            "}\n",
            ", retry_delay {\n",
            "  seconds: 52\n",
            "}\n",
            "].\n",
            "Retrying langchain_google_genai.chat_models._chat_with_retry.<locals>._chat_with_retry in 16.0 seconds as it raised ResourceExhausted: 429 You exceeded your current quota, please check your plan and billing details. For more information on this error, head to: https://ai.google.dev/gemini-api/docs/rate-limits. [violations {\n",
            "  quota_metric: \"generativelanguage.googleapis.com/generate_content_free_tier_requests\"\n",
            "  quota_id: \"GenerateRequestsPerMinutePerProjectPerModel-FreeTier\"\n",
            "  quota_dimensions {\n",
            "    key: \"model\"\n",
            "    value: \"gemini-2.5-flash\"\n",
            "  }\n",
            "  quota_dimensions {\n",
            "    key: \"location\"\n",
            "    value: \"global\"\n",
            "  }\n",
            "  quota_value: 10\n",
            "}\n",
            ", links {\n",
            "  description: \"Learn more about Gemini API quotas\"\n",
            "  url: \"https://ai.google.dev/gemini-api/docs/rate-limits\"\n",
            "}\n",
            ", retry_delay {\n",
            "  seconds: 43\n",
            "}\n",
            "].\n"
          ]
        },
        {
          "name": "stdout",
          "output_type": "stream",
          "text": [
            "==================================\u001b[1m Ai Message \u001b[0m==================================\n",
            "\n",
            "I've added \"Call back City Toyota to schedule car service\" to your ToDo list.\n"
          ]
        }
      ],
      "source": [
        "# User input for a ToDo\n",
        "input_messages = [HumanMessage(content=\"Need to call back City Toyota to schedule car service.\")]\n",
        "\n",
        "# Run the graph\n",
        "for chunk in graph.stream({\"messages\": input_messages}, config, stream_mode=\"values\"):\n",
        "    chunk[\"messages\"][-1].pretty_print()"
      ]
    },
    {
      "cell_type": "code",
      "execution_count": 60,
      "metadata": {
        "id": "hGqAb6J6jfIF",
        "outputId": "883df69b-7ed7-4763-8390-99d7ba4c9d77"
      },
      "outputs": [
        {
          "name": "stdout",
          "output_type": "stream",
          "text": [
            "{'task': 'Book swim lessons for the baby', 'time_to_complete': 30, 'deadline': '2023-11-30T00:00:00', 'solutions': ['Research local swim schools', 'Check availability and pricing', 'Book lessons'], 'status': 'not started'}\n",
            "{'task': 'Fix the jammed electric Yale lock on the door', 'time_to_complete': 60, 'deadline': None, 'solutions': ['Troubleshoot the lock (check battery, alignment, etc.)', 'Contact a local locksmith in SF (e.g., San Francisco Locksmith, My Local Locksmith SF)', 'Contact Yale customer support'], 'status': 'not started'}\n",
            "{'task': 'Call back City Toyota to schedule car service', 'time_to_complete': 15, 'deadline': None, 'solutions': ['Call City Toyota to schedule car service'], 'status': 'not started'}\n"
          ]
        }
      ],
      "source": [
        "# Namespace for the memory to save\n",
        "user_id = \"Lance\"\n",
        "\n",
        "# Search\n",
        "for memory in across_thread_memory.search((\"todo\", user_id)):\n",
        "    print(memory.value)"
      ]
    },
    {
      "cell_type": "markdown",
      "metadata": {
        "id": "md7Y8DrUjfIF"
      },
      "source": [
        "Now we can create a new thread.\n",
        "\n",
        "This creates a new session.\n",
        "\n",
        "Profile, ToDos, and Instructions saved to long-term memory are accessed."
      ]
    },
    {
      "cell_type": "code",
      "execution_count": 61,
      "metadata": {
        "id": "QTP0FO_yjfIF",
        "outputId": "1010ed9b-5d45-4194-97a4-3ea2702cb768"
      },
      "outputs": [
        {
          "name": "stdout",
          "output_type": "stream",
          "text": [
            "================================\u001b[1m Human Message \u001b[0m=================================\n",
            "\n",
            "I have 30 minutes, what tasks can I get done?\n",
            "==================================\u001b[1m Ai Message \u001b[0m==================================\n",
            "\n",
            "You could \"Book swim lessons for the baby\" (30 minutes) or \"Call back City Toyota to schedule car service\" (15 minutes).\n"
          ]
        }
      ],
      "source": [
        "# We supply a thread ID for short-term (within-thread) memory\n",
        "# We supply a user ID for long-term (across-thread) memory\n",
        "config = {\"configurable\": {\"thread_id\": \"2\", \"user_id\": \"Lance\"}}\n",
        "\n",
        "# Chat with the chatbot\n",
        "input_messages = [HumanMessage(content=\"I have 30 minutes, what tasks can I get done?\")]\n",
        "\n",
        "# Run the graph\n",
        "for chunk in graph.stream({\"messages\": input_messages}, config, stream_mode=\"values\"):\n",
        "    chunk[\"messages\"][-1].pretty_print()"
      ]
    },
    {
      "cell_type": "code",
      "execution_count": 62,
      "metadata": {
        "id": "7rASeVg4jfIG",
        "outputId": "90366e03-58c6-49b6-ba35-d7b8974aab19"
      },
      "outputs": [
        {
          "name": "stdout",
          "output_type": "stream",
          "text": [
            "================================\u001b[1m Human Message \u001b[0m=================================\n",
            "\n",
            "Yes, give me some options to call for swim lessons.\n",
            "==================================\u001b[1m Ai Message \u001b[0m==================================\n",
            "Tool Calls:\n",
            "  UpdateMemory (d075c488-daaa-4100-8efb-9d614f272e47)\n",
            " Call ID: d075c488-daaa-4100-8efb-9d614f272e47\n",
            "  Args:\n",
            "    update_type: todo\n",
            "=================================\u001b[1m Tool Message \u001b[0m=================================\n",
            "\n",
            "Document 5516807b-8815-421f-8845-12da7d640f10 updated:\n",
            "Plan: The user is asking for specific options to call for swim lessons. The current 'solutions' for this task are general steps. I need to add specific swim schools to the 'solutions' list. I will add 'Local YMCA' and 'AquaSafe Swim School' as potential options.\n",
            "Added content: Local YMCA\n",
            "==================================\u001b[1m Ai Message \u001b[0m==================================\n",
            "\n",
            "I've updated your ToDo list. For swim lessons, you could try the Local YMCA or AquaSafe Swim School.\n"
          ]
        }
      ],
      "source": [
        "# Chat with the chatbot\n",
        "input_messages = [HumanMessage(content=\"Yes, give me some options to call for swim lessons.\")]\n",
        "\n",
        "# Run the graph\n",
        "for chunk in graph.stream({\"messages\": input_messages}, config, stream_mode=\"values\"):\n",
        "    chunk[\"messages\"][-1].pretty_print()"
      ]
    }
  ],
  "metadata": {
    "colab": {
      "provenance": []
    },
    "kernelspec": {
      "display_name": ".venv",
      "language": "python",
      "name": "python3"
    },
    "language_info": {
      "codemirror_mode": {
        "name": "ipython",
        "version": 3
      },
      "file_extension": ".py",
      "mimetype": "text/x-python",
      "name": "python",
      "nbconvert_exporter": "python",
      "pygments_lexer": "ipython3",
      "version": "3.13.7"
    }
  },
  "nbformat": 4,
  "nbformat_minor": 0
}
