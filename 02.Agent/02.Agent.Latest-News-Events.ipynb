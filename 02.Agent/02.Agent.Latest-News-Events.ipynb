{
  "cells": [
    {
      "cell_type": "code",
      "execution_count": 1,
      "metadata": {},
      "outputs": [
        {
          "name": "stdout",
          "output_type": "stream",
          "text": [
            "{'python': '/Users/vuhung/Desktop/LangGraph-Adventures/02.Agent/.venv/bin/python', 'version': '3.13.7', 'platform': 'macOS-15.6-arm64-arm-64bit-Mach-O'}\n"
          ]
        },
        {
          "data": {
            "text/plain": [
              "True"
            ]
          },
          "execution_count": 1,
          "metadata": {},
          "output_type": "execute_result"
        }
      ],
      "source": [
        "# Setup kernel and env\n",
        "import sys, platform\n",
        "print({\"python\": sys.executable, \"version\": sys.version.split()[0], \"platform\": platform.platform()})\n",
        "assert sys.executable == \"/Users/vuhung/Desktop/LangGraph-Adventures/02.Agent/.venv/bin/python\", \"Please run with the specified virtualenv python\"\n",
        "\n",
        "from dotenv import load_dotenv\n",
        "from pathlib import Path\n",
        "load_dotenv(Path(\"/Users/vuhung/Desktop/LangGraph-Adventures/02.Agent/.env.local\"))\n"
      ]
    },
    {
      "cell_type": "code",
      "execution_count": 2,
      "metadata": {},
      "outputs": [
        {
          "name": "stderr",
          "output_type": "stream",
          "text": [
            "/var/folders/cp/_pjh4tv50jv96b4b2_xp6l2c0000gp/T/ipykernel_15000/1972869678.py:11: LangChainDeprecationWarning: The class `TavilySearchResults` was deprecated in LangChain 0.3.25 and will be removed in 1.0. An updated version of the class exists in the :class:`~langchain-tavily package and should be used instead. To use it run `pip install -U :class:`~langchain-tavily` and import as `from :class:`~langchain_tavily import TavilySearch``.\n",
            "  search = TavilySearchResults(max_results=3)\n"
          ]
        }
      ],
      "source": [
        "# Build a simple ReAct-style agent with Tavily tool per LangChain docs\n",
        "from langchain.tools import tool\n",
        "from langchain_community.tools.tavily_search import TavilySearchResults\n",
        "from langchain_google_genai import ChatGoogleGenerativeAI\n",
        "from langgraph.prebuilt import create_react_agent\n",
        "\n",
        "# LLM\n",
        "llm = ChatGoogleGenerativeAI(model=\"gemini-2.5-flash\", temperature=0.2)\n",
        "\n",
        "# Tools\n",
        "search = TavilySearchResults(max_results=3)\n",
        "\n",
        "# Agent\n",
        "agent = create_react_agent(llm, tools=[search])\n",
        "\n"
      ]
    },
    {
      "cell_type": "code",
      "execution_count": 9,
      "metadata": {},
      "outputs": [
        {
          "name": "stdout",
          "output_type": "stream",
          "text": [
            "Here are five significant advancements in LLM/AI, based on recent news and research:\n",
            "\n",
            "1.  **Enhanced Reasoning through Reinforcement Learning:** Several research efforts are focusing on improving LLM reasoning capabilities using reinforcement learning (RL). This includes approaches like Logic-RL, SWE-RL, and ReSearch, which aim to train LLMs to reason more effectively, often by leveraging search engines or rule-based systems.\n",
            "    *   **Source:** LLM Research Papers: The 2025 List (January to June) - Ahead of AI (https://magazine.sebastianraschka.com/p/llm-research-papers-2025-list-one)\n",
            "\n",
            "2.  **Multimodal AI Going Mainstream:** The ability of LLMs to understand and respond using various modalities (text, images, audio) is rapidly advancing. OpenAI's GPT-4o, Google's Gemini 2.0, Meta's LLaMA 3.2, and Anthropic's Claude 3.5 Sonnet are examples of models that can process and generate information across these different formats in real-time.\n",
            "    *   **Source:** Top LLM Trends 2025: What's the Future of LLMs - Turing (https://www.turing.com/resources/top-llm-trends)\n",
            "\n",
            "3.  **Advances in Training and Fine-Tuning Techniques:** New methods like prompt tuning, hybrid approaches, and AutoML are making it easier and more efficient to customize LLMs without extensive retraining. This allows for faster and more cost-effective deployment of LLMs in various applications.\n",
            "    *   **Source:** Top LLM Trends 2025: What's the Future of LLMs - Turing (https://www.turing.com/resources/top-llm-trends)\n",
            "\n",
            "4.  **Focus on Explainability and Regulation:** As LLMs become more prevalent, there's a growing emphasis on understanding how they make decisions. Tools like SHAP, LIME, and attention visualization are gaining traction to provide insights into LLM behavior. Simultaneously, governments are moving forward with regulations, such as the EU AI Act, to address ethical and societal concerns.\n",
            "    *   **Source:** Top LLM Trends 2025: What's the Future of LLMs - Turing (https://www.turing.com/resources/top-llm-trends)\n",
            "\n",
            "5.  **Drive Towards Sustainable AI Development:** Research is increasingly focused on optimizing training techniques, improving hardware efficiency, and exploring alternative energy sources for data centers to make AI development more sustainable. This also includes efforts to reduce inference costs, making LLM-powered applications more cost-effective and environmentally friendly.\n",
            "    *   **Source:** LLM Trends 2025: A Deep Dive into the Future of Large Language ... - Prajna AI Wisdom (https://prajnaaiwisdom.medium.com/llm-trends-2025-a-deep-dive-into-the-future-of-large-language-models-bff23aa7cdbc)\n"
          ]
        }
      ],
      "source": [
        "# Top five LLM/AI news headlines today with sources\n",
        "response = agent.invoke({\n",
        "    \"messages\": [\n",
        "        (\"user\", \"What are the top five news regarding advancements in LLM/AI? Cite the sources with links.\")\n",
        "    ]\n",
        "})\n",
        "last = response[\"messages\"][ -1 ]\n",
        "print(getattr(last, \"content\", last))\n"
      ]
    },
    {
      "cell_type": "code",
      "execution_count": 4,
      "metadata": {},
      "outputs": [
        {
          "name": "stdout",
          "output_type": "stream",
          "text": [
            "In the past 24 hours, the conflict between Russia and Ukraine has seen continued aerial attacks and ground clashes.\n",
            "\n",
            "**Key Developments:**\n",
            "\n",
            "*   **Drone Attacks:** Ukraine reported that its air defense units destroyed 47 of 59 Russian drones fired overnight, though 12 drones managed to strike nine different locations. Russia, in turn, claimed its anti-air units intercepted and destroyed 43 Ukrainian drones. One person was killed in Yampil, Donetsk region, and two others were injured in Kharkiv and Zaporizhzhia. (Source: Sky News: [https://news.sky.com/story/trump-zelenskyy-putin-ukraine-war-drones-latest-live-updates-12541713](https://news.sky.com/story/trump-zelenskyy-putin-ukraine-war-drones-latest-live-updates-12541713))\n",
            "*   **Ground Clashes:** The front lines remained active with 174 combat clashes recorded. Ukraine's General Staff reported 890 Russian personnel losses. Russian forces conducted 67 air strikes, dropped 128 guided aerial bombs, engaged 4,807 kamikaze drones, and carried out 4,774 shellings on Ukrainian positions and populated areas. Ukrainian forces struck five areas of enemy personnel and equipment concentration, as well as two artillery systems. (Source: Mezha.net: [https://mezha.net/eng/bukvy/ukraine-frontline-update-890-russian-losses-and-ongoing-clashes-on-august-26-2025/](https://mezha.net/eng/bukvy/ukraine-frontline-update-890-russian-losses-and-ongoing-clashes-on-august-26-2025/))\n",
            "*   **Accusations of Nuclear Plant Attack:** Russia accused Ukraine of attacking a nuclear plant, causing a fire. (Source: Al Jazeera: [https://www.aljazeera.com/tag/ukraine-russia-crisis/](https://www.aljazeera.com/tag/ukraine-russia-crisis/))\n",
            "*   **Pipeline Concerns:** Hungary and Slovakia expressed fears of oil cuts following a Ukrainian attack on a Russian pipeline. (Source: Al Jazeera: [https://www.aljazeera.com/tag/ukraine-russia-crisis/](https://www.aljazeera.com/tag/ukraine-russia-crisis/))\n"
          ]
        }
      ],
      "source": [
        "# Latest 24h developments in Russia-Ukraine conflict with sources\n",
        "response = agent.invoke({\n",
        "    \"messages\": [\n",
        "        (\"user\", \"Summarize the latest developments in the conflict between Russia and Ukraine in the past 24 hours. Cite the sources with links.\")\n",
        "    ]\n",
        "})\n",
        "last = response[\"messages\"][ -1 ]\n",
        "print(getattr(last, \"content\", last))\n"
      ]
    },
    {
      "cell_type": "code",
      "execution_count": 5,
      "metadata": {},
      "outputs": [
        {
          "name": "stdout",
          "output_type": "stream",
          "text": [
            "According to recent reports dated August 26, 2025, a tropical storm identified as Typhoon Kajiki made landfall in Vietnam, causing significant flooding and at least three deaths.\n",
            "\n",
            "Here's a summary of the situation as reported:\n",
            "\n",
            "*   **Impact:** Heavy rain led to widespread flooding in the capital, Hanoi, and coastal areas, with some streets experiencing knee-deep water. The storm caused damage to homes, blew away billboards and roofs, uprooted trees, and knocked down electric poles.\n",
            "*   **Casualties:** At least three deaths were reported.\n",
            "*   **Affected Areas:** Flooding was reported in Hanoi, and coastal flooding occurred in Nghe An and Ha Tinh provinces, exacerbated by high tides. Nghe An province also experienced electricity outages.\n",
            "*   **Storm Details:** Typhoon Kajiki made landfall with maximum sustained winds of 117 kph (73 mph). The torrential rain triggered flash flood and landslide alerts.\n",
            "*   **Current Movement:** As of the reports, the remnants of Typhoon Kajiki were moving over Laos, with heavy rain also forecast for Thailand.\n",
            "\n",
            "**Sources:**\n",
            "\n",
            "*   \"Tropical storm leaves 3 dead in Vietnam and brings heavy ...\" (dated August 26, 2025) - [https://kstp.com/ap-top-news/tropical-storm-leaves-3-dead-in-vietnam-and-brings-heavy-rain-to-parts-of-southeast-asia/](https://kstp.com/ap-top-news/tropical-storm-leaves-3-dead-in-vietnam-and-brings-heavy-rain-to-parts-of-southeast-asia/)\n",
            "*   \"Tropical storm leaves 3 dead in Vietnam and brings heavy ...\" (dated August 26, 2025) - [https://wtop.com/asia/2025/08/heavy-rain-falls-in-parts-of-southeast-asia-after-tropical-storm-blows-into-vietnam/](https://wtop.com/asia/2025/08/heavy-rain-falls-in-parts-of-southeast-asia-after-tropical-storm-blows-into-vietnam/)\n",
            "*   \"Heavy rain falls in parts of Southeast Asia after tropical storm ...\" (dated August 26, 2025) - [https://abcnews.go.com/International/wireStory/heavy-rain-falls-parts-southeast-asia-after-tropical-124975946](https://abcnews.go.com/International/wireStory/heavy-rain-falls-parts-of-southeast-asia-after-tropical-124975946)\n",
            "\n",
            "Please note that these reports are dated in the future (August 26, 2025).\n"
          ]
        }
      ],
      "source": [
        "# Current status of the flood in Vietnam per recent reports\n",
        "response = agent.invoke({\n",
        "    \"messages\": [\n",
        "        (\"user\", \"What is the current status of the flood in Vietnam, according to recent reports? Cite the sources with links.\")\n",
        "    ]\n",
        "})\n",
        "last = response[\"messages\"][ -1 ]\n",
        "print(getattr(last, \"content\", last))\n"
      ]
    },
    {
      "cell_type": "code",
      "execution_count": 7,
      "metadata": {},
      "outputs": [
        {
          "name": "stdout",
          "output_type": "stream",
          "text": [
            "Magnus Carlsen has recently been active in the Titled Tuesday tournaments on Chess.com.\n",
            "\n",
            "**Key Highlights:**\n",
            "\n",
            "*   **August 20, 2024:** Carlsen won the late Titled Tuesday event with 9.5 points. This followed a previous week where he finished runner-up in both events.\n",
            "    *   Source: [Titled Tuesday - August 20, 2024 - Chess.com](https://www.chess.com/news/view/santos-carlsen-win-titled-tuesday-august-20-2024)\n",
            "*   **August 19, 2024 (previous to the above):** Carlsen swept both Titled Tuesdays on a single day, a feat he had achieved once before in less than two years.\n",
            "    *   Source: [Chess News and Event Coverage - Chess.com](https://www.chess.com/news)\n",
            "\n",
            "You can find more of his games and tournament results on these sites:\n",
            "\n",
            "*   [Magnus Carlsen chess games - 365chess.com](https://www.365chess.com/players/Magnus_Carlsen)\n",
            "*   [The Best Chess Games of Magnus Carlsen - Chess.com](https://www.chess.com/games/magnus-carlsen)\n"
          ]
        }
      ],
      "source": [
        "# Most recent games of Magnus Carlsen and key highlights\n",
        "response = agent.invoke({\n",
        "    \"messages\": [\n",
        "        (\"user\", \"Tell me about the recent games of Magnus Carlsen and provide the key highlights. Cite the sources with links.\")\n",
        "    ]\n",
        "})\n",
        "last = response[\"messages\"][ -1 ]\n",
        "print(getattr(last, \"content\", last))\n"
      ]
    },
    {
      "cell_type": "code",
      "execution_count": 10,
      "metadata": {},
      "outputs": [
        {
          "name": "stdout",
          "output_type": "stream",
          "text": [
            "Here are 5 recent case studies where data mining improved outcomes or efficiency:\n",
            "\n",
            "1.  **Healthcare Fraud and Abuse Detection:** Data mining techniques are being used in health insurance to identify fraudulent claims and abuse. While specific metrics for recent cases are not always publicly available, the general impact of such systems includes significant cost savings for insurance providers and a reduction in fraudulent activities.\n",
            "    *   **Impact:** Reduced financial losses due to fraud and abuse.\n",
            "    *   **Source:** Romexsoft, \"Data Mining in Healthcare Explained: Uses, Tools, and Impact\" (https://www.romexsoft.com/blog/data-mining-in-healthcare/)\n",
            "\n",
            "2.  **Improving Key Performance Indicators (KPIs) in Business:** A 2022 study explored using data mining to enhance KPIs, leading to improved decision-making, faster and more accurate data analysis, reduced mismanagement, and timely decision-making.\n",
            "    *   **Impact:** Enhanced decision-making, increased accuracy and speed in data analysis, reduced mismanagement.\n",
            "    *   **Source:** Ahmed, A. K., Zaied, A. N. H., & Hagag, R. (2022). \"Using Data Mining Techniques to improving Key Performance Indicators.\" *Future Computing and Informatics Journal*, 7(1), 59. (https://digitalcommons.aaru.edu.jo/cgi/viewcontent.cgi?article=1157&context=fcij)\n",
            "\n",
            "3.  **Healthcare Diagnostics and Treatment Personalization:** Data mining in healthcare supports clinical decisions, personalized treatment, early disease detection, and outcome prediction. Advanced cloud services like HealthOmics and AWS HealthLake have reportedly led to a 25% reduction in data processing time and improved patient outcomes.\n",
            "    *   **Impact:** Up to 25% reduction in data processing time, improved patient outcomes, personalized care.\n",
            "    *   **Source:** Romexsoft, \"Data Mining in Healthcare Explained: Uses, Tools, and Impact\" (https://www.romexsoft.com/blog/data-mining-in-healthcare/)\n",
            "\n",
            "4.  **Predictive Maintenance in Manufacturing (Siemens):** Siemens utilizes data science and machine learning algorithms to monitor and analyze data from their manufacturing machines. This allows them to identify wear and tear patterns and schedule maintenance precisely when needed, leading to substantial cost savings and increased operational efficiency.\n",
            "    *   **Impact:** Substantial cost savings, increased operational efficiency.\n",
            "    *   **Source:** Turing, \"10 Real-World Data Science Case Studies Worth Reading\" (https://www.turing.com/resources/data-science-case-studies)\n",
            "\n",
            "5.  **Urban Planning and Public Services (Singapore):** Singapore, as a smart city, uses data science to optimize urban planning and public services. By gathering data from sensors and citizen feedback, they manage traffic flow, reduce energy consumption, and improve the overall quality of life.\n",
            "    *   **Impact:** Optimized traffic flow, reduced energy consumption, improved quality of life.\n",
            "    *   **Source:** Turing, \"10 Real-World Data Science Case Studies Worth Reading\" (https://www.turing.com/resources/data-science-case-studies)\n"
          ]
        }
      ],
      "source": [
        "# Five recent data mining case studies with sources\n",
        "response = agent.invoke({\n",
        "    \"messages\": [\n",
        "        (\"user\", \"Research and list 5 recent case studies where data mining improved outcomes or efficiency. Prefer the newest cases. Include brief impact metrics and cite sources with links.\")\n",
        "    ]\n",
        "})\n",
        "last = response[\"messages\"][ -1 ]\n",
        "print(getattr(last, \"content\", last))\n"
      ]
    },
    {
      "cell_type": "code",
      "execution_count": null,
      "metadata": {},
      "outputs": [
        {
          "name": "stdout",
          "output_type": "stream",
          "text": [
            "Here are some of the latest headlines from ABC Australia:\n",
            "\n",
            "**1. Suspect still on the run after two police officers killed**\n",
            "   *   **Summary:** Two police officers have died and another was wounded after a shooting in Porepunkah, Victoria. A suspect remains at large, and the situation is ongoing with local facilities closed and tourism operations in lockdown.\n",
            "   *   **Source:** https://www.abc.net.au/news/2025-08-26/suspect-still-on-the-run-after-two-police-officers/105700854\n",
            "\n",
            "**2. Steep US tariffs on China don't bode well for Australia's economy**\n",
            "   *   **Summary:** An analysis suggests that new US tariffs on China could negatively impact Australia's economy. This comes as trade agreements and global economic shifts are under scrutiny.\n",
            "   *   **Source:** https://www.abc.net.au/news/2025-08-26/suspect-still-on-the-run-after-two-police-officers/105700854\n",
            "\n",
            "**3. Aerial vision of pro-Palestinian protest in Melbourne**\n",
            "   *   **Summary:** Footage shows a large crowd gathered outside the Victoria State Library during a pro-Palestinian protest in Melbourne.\n",
            "   *   **Source:** https://www.abc.net.au/news/2025-08-26/suspect-still-on-the-run-after-two-police-officers/105700854\n",
            "\n",
            "**4. With Iran exposed, the regime could now turn its attention to new targets**\n",
            "   *   **Summary:** Following Australia's actions in revealing Iran's activities, an analysis suggests that the Islamic Revolutionary Guard Corps may now focus on new targets.\n",
            "   *   **Source:** https://www.abc.net.au/news\n",
            "\n",
            "**5. Iran labels Australia's expulsion of ambassador an 'assault on diplomacy'**\n",
            "   *   **Summary:** Iran has responded to Australia's expulsion of its ambassador, calling the move an \"assault on diplomacy.\" This follows allegations of Iran directing antisemitic attacks in Australia.\n",
            "   *   **Source:** https://www.abc.net.au/news\n",
            "\n",
            "**6. Deposit scheme could increase house prices faster than Treasury forecasts**\n",
            "   *   **Summary:** Concerns are being raised that a new deposit scheme could lead to a faster increase in house prices than initially predicted by Treasury forecasts.\n",
            "   *   **Source:** https://www.abc.net.au/news\n",
            "\n",
            "**7. Eagles get 'everything we want' in Reid, as Harley re-signs until 2028**\n",
            "   *   **Summary:** In sports news, the West Coast Eagles are pleased with Reid's performance, and Harley has re-signed with the team until 2028.\n",
            "   *   **Source:** https://www.abc.net.au/news\n",
            "\n",
            "**8. Four men charged over alleged AFL Brownlow Medal betting scheme**\n",
            "   *   **Summary:** Four individuals have been charged in connection with an alleged betting scheme related to the AFL Brownlow Medal.\n",
            "   *   **Source:** https://www.abc.net.au/news\n",
            "\n",
            "**9. Grazier who trained in town pool completes third huge open water swim**\n",
            "   *   **Summary:** A grazier, who prepared for his swims in a town pool, has successfully completed his third significant open water swimming event.\n",
            "   *   **Source:** https://www.abc.net.au/news\n",
            "\n",
            "**10. Daughter's plea after young, fit dad loses prostate cancer battle**\n",
            "    *   **Summary:** A daughter is making a plea after her young and fit father tragically lost his battle with prostate cancer.\n",
            "    *   **Source:** https://www.abc.net.au/news\n"
          ]
        }
      ],
      "source": [
        "# Latest news headlines from ABC Australia\n",
        "N = 10  \n",
        "\n",
        "# prompt = (\n",
        "#     f\"From https://www.abc.net.au/, list the latest {N} news headlines (max 10). \"\n",
        "#     \"Provide a) a title, b) an in-short summary in less than 100 words. c) Cite the sources with links.\"\n",
        "# )\n",
        "\n",
        "prompt = (\n",
        "    f\"Search for the latest {N} news headlines from ABC Australia (abc.net.au). \"\n",
        "    \"Look for current breaking news, featured stories, and recent developments from Australia. \"\n",
        "    \"Focus on stories about: politics, weather, crime, sports, entertainment, and local Australian news. \"\n",
        "    \"For each headline, provide: a) the title, b) a brief summary (under 50 words), c) the source link. \"\n",
        "    \"Make sure to search specifically for 'ABC Australia news' or 'abc.net.au latest news' to get the Australian ABC, not the US ABC.\"\n",
        ")\n",
        "\n",
        "response = agent.invoke({\n",
        "    \"messages\": [\n",
        "        (\"user\", prompt)\n",
        "    ]\n",
        "})\n",
        "last = response[\"messages\"][ -1 ]\n",
        "print(getattr(last, \"content\", last))\n"
      ]
    }
  ],
  "metadata": {
    "kernelspec": {
      "display_name": ".venv",
      "language": "python",
      "name": "python3"
    },
    "language_info": {
      "codemirror_mode": {
        "name": "ipython",
        "version": 3
      },
      "file_extension": ".py",
      "mimetype": "text/x-python",
      "name": "python",
      "nbconvert_exporter": "python",
      "pygments_lexer": "ipython3",
      "version": "3.13.7"
    }
  },
  "nbformat": 4,
  "nbformat_minor": 2
}
