{
  "cells": [
    {
      "cell_type": "code",
      "execution_count": 9,
      "metadata": {},
      "outputs": [
        {
          "name": "stdout",
          "output_type": "stream",
          "text": [
            "{'python': '/Users/vuhung/Desktop/LangGraph-Adventures/02.Agent/.venv/bin/python', 'version': '3.13.7', 'platform': 'macOS-15.6-arm64-arm-64bit-Mach-O'}\n"
          ]
        }
      ],
      "source": [
        "# Setup: environment and versions\n",
        "import os, sys, platform\n",
        "print({\n",
        "    \"python\": sys.executable,\n",
        "    \"version\": sys.version.split()[0],\n",
        "    \"platform\": platform.platform(),\n",
        "})\n",
        "\n",
        "# Ensure we are using the requested venv\n",
        "assert sys.executable == \"/Users/vuhung/Desktop/LangGraph-Adventures/02.Agent/.venv/bin/python\", \"Please run with the specified virtualenv python\"\n"
      ]
    },
    {
      "cell_type": "code",
      "execution_count": 10,
      "metadata": {},
      "outputs": [],
      "source": [
        "# Load environment variables\n",
        "from dotenv import load_dotenv\n",
        "from pathlib import Path\n",
        "\n",
        "load_dotenv(Path(\"/Users/vuhung/Desktop/LangGraph-Adventures/02.Agent/.env.local\"))\n",
        "import os\n",
        "\n",
        "for key in [\"LANGSMITH_TRACING\",\"LANGSMITH_API_KEY\",\"TAVILY_API_KEY\",\"GOOGLE_API_KEY\",\"GEMINI_API_KEY\"]:\n",
        "    assert os.getenv(key), f\"Missing env var: {key}\"\n"
      ]
    },
    {
      "cell_type": "code",
      "execution_count": 11,
      "metadata": {},
      "outputs": [
        {
          "name": "stdout",
          "output_type": "stream",
          "text": [
            "The sky is blue because of how sunlight interacts with Earth's atmosphere, a phenomenon primarily explained by **Rayleigh scattering**.\n",
            "\n",
            "Here's a breakdown:\n",
            "\n",
            "1.  **Sunlight is White Light:** Sunlight, which appears white to our eyes, is actually made up of all the colors of the rainbow (the visible spectrum: red, orange, yellow, green, blue, indigo, violet). Each color has a different **wavelength** – red has the longest wavelength, and violet/blue have the shortest.\n",
            "\n",
            "2.  **Earth's Atmosphere:** Our atmosphere is composed of tiny gas molecules, mainly nitrogen (about 78%) and oxygen (about 21%), along with other trace gases and some dust/water vapor.\n",
            "\n",
            "3.  **Scattering of Light:** When sunlight enters the atmosphere, these tiny gas molecules scatter the light in all directions. The amount of scattering depends on the wavelength of the light and the size of the particles it hits.\n",
            "\n",
            "4.  **Rayleigh Scattering:**\n",
            "    *   The gas molecules in our atmosphere are much smaller than the wavelengths of visible light.\n",
            "    *   These tiny molecules are much more effective at scattering shorter, bluer wavelengths of light than longer, redder wavelengths.\n",
            "    *   Think of it this way: blue and violet light have very short, tight waves, while red and orange light have long, stretched-out waves. The tiny atmospheric particles are just the right size to \"catch\" and scatter the short, blue waves much more vigorously.\n",
            "\n",
            "5.  **Why Blue (and not Violet)?**\n",
            "    *   Violet light actually has an even shorter wavelength than blue and is scattered slightly more. However, there are two main reasons why the sky appears blue rather than violet:\n",
            "        *   The sun emits slightly less violet light than blue light.\n",
            "        *   Our eyes are more sensitive to blue light than to violet light.\n",
            "    *   So, while violet light *is* scattered, the combination of less initial violet light and our eye's sensitivity makes the sky appear predominantly blue.\n",
            "\n",
            "**In summary:** As sunlight travels through the atmosphere, the blue light is scattered in all directions by the tiny gas molecules. This scattered blue light reaches our eyes from all parts of the sky, making it appear blue.\n",
            "\n",
            "**Bonus: Why Sunsets are Red/Orange**\n",
            "This same principle explains why sunsets and sunrises are red and orange. When the sun is low on the horizon, its light has to travel through much more of the atmosphere to reach our eyes. By the time the light reaches us, most of the blue and green light has been scattered away, leaving primarily the longer-wavelength red, orange, and yellow light to pass through directly.\n"
          ]
        }
      ],
      "source": [
        "# Build a minimal LangGraph agent using Gemini\n",
        "from langchain_google_genai import ChatGoogleGenerativeAI\n",
        "from langgraph.graph import StateGraph, START, END\n",
        "from typing import TypedDict\n",
        "\n",
        "class AgentState(TypedDict):\n",
        "    question: str\n",
        "    answer: str\n",
        "\n",
        "llm = ChatGoogleGenerativeAI(model=\"gemini-2.5-flash\", temperature=0.2)\n",
        "\n",
        "# Define a node that uses the LLM to answer\n",
        "async def answer_node(state: AgentState) -> AgentState:\n",
        "    resp = await llm.ainvoke(state[\"question\"])  # returns AIMessage\n",
        "    return {\"answer\": resp.content, \"question\": state[\"question\"]}\n",
        "\n",
        "# Wire graph\n",
        "builder = StateGraph(AgentState)\n",
        "builder.add_node(\"answer\", answer_node)\n",
        "builder.add_edge(START, \"answer\")\n",
        "builder.add_edge(\"answer\", END)\n",
        "app = builder.compile()\n",
        "\n",
        "# Run the agent\n",
        "result = await app.ainvoke({\"question\": \"Why sky is blue?\"})\n",
        "print(result[\"answer\"])\n"
      ]
    }
  ],
  "metadata": {
    "kernelspec": {
      "display_name": ".venv",
      "language": "python",
      "name": "python3"
    },
    "language_info": {
      "codemirror_mode": {
        "name": "ipython",
        "version": 3
      },
      "file_extension": ".py",
      "mimetype": "text/x-python",
      "name": "python",
      "nbconvert_exporter": "python",
      "pygments_lexer": "ipython3",
      "version": "3.13.7"
    }
  },
  "nbformat": 4,
  "nbformat_minor": 2
}
