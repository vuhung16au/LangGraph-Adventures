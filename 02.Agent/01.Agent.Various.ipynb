{
  "cells": [
    {
      "cell_type": "code",
      "execution_count": 27,
      "metadata": {},
      "outputs": [
        {
          "name": "stdout",
          "output_type": "stream",
          "text": [
            "{'python': '/Users/vuhung/Desktop/LangGraph-Adventures/02.Agent/.venv/bin/python', 'version': '3.13.7', 'platform': 'macOS-15.6-arm64-arm-64bit-Mach-O'}\n"
          ]
        },
        {
          "data": {
            "text/plain": [
              "True"
            ]
          },
          "execution_count": 27,
          "metadata": {},
          "output_type": "execute_result"
        }
      ],
      "source": [
        "# Setup kernel and env\n",
        "import sys, platform\n",
        "print({\"python\": sys.executable, \"version\": sys.version.split()[0], \"platform\": platform.platform()})\n",
        "assert sys.executable == \"/Users/vuhung/Desktop/LangGraph-Adventures/02.Agent/.venv/bin/python\", \"Please run with the specified virtualenv python\"\n",
        "\n",
        "from dotenv import load_dotenv\n",
        "from pathlib import Path\n",
        "load_dotenv(Path(\"/Users/vuhung/Desktop/LangGraph-Adventures/02.Agent/.env.local\"))\n"
      ]
    },
    {
      "cell_type": "code",
      "execution_count": 28,
      "metadata": {},
      "outputs": [
        {
          "name": "stdout",
          "output_type": "stream",
          "text": [
            "Today, August 2nd, 2024, the weather in Hanoi is very hot with high heat and humidity. Daytime temperatures are around 32°C, falling to 26°C at night.\n"
          ]
        }
      ],
      "source": [
        "# Build a simple ReAct-style agent with Tavily tool per LangChain docs\n",
        "from langchain.tools import tool\n",
        "from langchain_community.tools.tavily_search import TavilySearchResults\n",
        "from langchain_google_genai import ChatGoogleGenerativeAI\n",
        "from langgraph.prebuilt import create_react_agent\n",
        "\n",
        "# LLM\n",
        "llm = ChatGoogleGenerativeAI(model=\"gemini-2.5-flash\", temperature=0.2)\n",
        "\n",
        "# Tools\n",
        "search = TavilySearchResults(max_results=3)\n",
        "\n",
        "# Agent\n",
        "agent = create_react_agent(llm, tools=[search])\n",
        "\n",
        "# Ask about weather (typo Wather kept as file name per request)\n",
        "response = agent.invoke({\"messages\": [\n",
        "    (\"user\", \"What's the weather in Hanoi today? Show the date in your response. Show the temperature in your response in Celsius. Summarize briefly.\")\n",
        "]})\n",
        "\n",
        "# Print the final message content\n",
        "last = response[\"messages\"][-1]\n",
        "print(getattr(last, \"content\", last))\n"
      ]
    },
    {
      "cell_type": "code",
      "execution_count": 29,
      "metadata": {},
      "outputs": [
        {
          "name": "stdout",
          "output_type": "stream",
          "text": [
            "As of today, **December 13, 2023**, the price of Bitcoin (BTC) in AUD is approximately **A$166,844**.\n",
            "\n",
            "Here's an hourly breakdown of the price:\n",
            "\n",
            "*   **An hour ago:** A$166,511 (0.2% lower than the current price)\n",
            "*   **Today's price:** A$166,844 (0.2% increase from an hour ago)\n",
            "\n",
            "Please note that these prices are approximate and can fluctuate rapidly.\n"
          ]
        }
      ],
      "source": [
        "# Reusing the settings from previous cell \n",
        "\n",
        "# Ask about Bitcoin price today\n",
        "response = agent.invoke({\"messages\": [\n",
        "    (\"user\", \"What is the Bitcoin BTC price (in AUD) today? Show the prices every hours. Show the date in your response.\")\n",
        "]})\n",
        "last = response[\"messages\"][-1]\n",
        "print(getattr(last, \"content\", last))\n"
      ]
    },
    {
      "cell_type": "code",
      "execution_count": 30,
      "metadata": {},
      "outputs": [
        {
          "name": "stdout",
          "output_type": "stream",
          "text": [
            "As of the latest information, Tesla's stock price is not explicitly stated, but its trailing P/E is 206.31, and its revenue (ttm) is $92.72 billion.\n",
            "\n",
            "Here are some of the latest news headlines regarding Tesla:\n",
            "*   \"What is driving the EV sales slowdown, according to one analyst\"\n",
            "*   \"Elon Musk sues Apple & OpenAI, Roblox rises, Alphabet's new high\"\n",
            "*   \"Wedbush's Dan Ives: 80% of Musk lawsuit against Apple, OpenAI is 'noise'\"\n",
            "\n",
            "Regarding Tesla's top competitors and their market caps:\n",
            "\n",
            "1.  **BYD Company Ltd.** is a major competitor, and it is challenging Tesla for the BEV title. While a specific market cap for BYD isn't provided in the search results, it is noted that BYD's market share in the global EV market increased to 16.2% from 15.9% a year ago, and it could surpass Tesla in the first half of 2025.\n",
            "2.  **NIO** had a market capitalization of **$8.86 billion** as of February 1, 2025.\n",
            "3.  **Volkswagen (VWAPY)** is also a significant competitor, but its market capitalization is not explicitly stated in the provided results. However, it held 5.9% of the EV market.\n",
            "\n",
            "Other notable competitors mentioned include Ford Motor Company and General Motors, but their market caps are not provided in the search results.\n"
          ]
        }
      ],
      "source": [
        "# Ask about Tesla stock, latest news, and competitors' market caps\n",
        "response = agent.invoke({\"messages\": [\n",
        "    (\"user\", \"What is the current stock price of Tesla, what are the latest news headlines, and what is the market cap of its top 3 competitors?\")\n",
        "]})\n",
        "last = response[\"messages\"][-1]\n",
        "print(getattr(last, \"content\", last))\n"
      ]
    }
  ],
  "metadata": {
    "kernelspec": {
      "display_name": ".venv",
      "language": "python",
      "name": "python3"
    },
    "language_info": {
      "codemirror_mode": {
        "name": "ipython",
        "version": 3
      },
      "file_extension": ".py",
      "mimetype": "text/x-python",
      "name": "python",
      "nbconvert_exporter": "python",
      "pygments_lexer": "ipython3",
      "version": "3.13.7"
    }
  },
  "nbformat": 4,
  "nbformat_minor": 2
}
